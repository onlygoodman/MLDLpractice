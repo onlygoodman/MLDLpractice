{
  "nbformat": 4,
  "nbformat_minor": 0,
  "metadata": {
    "colab": {
      "name": "boj 1753.ipynb",
      "provenance": [],
      "authorship_tag": "ABX9TyNLoahWR30dUJUbCBg093s9",
      "include_colab_link": true
    },
    "kernelspec": {
      "name": "python3",
      "display_name": "Python 3"
    },
    "language_info": {
      "name": "python"
    }
  },
  "cells": [
    {
      "cell_type": "markdown",
      "metadata": {
        "id": "view-in-github",
        "colab_type": "text"
      },
      "source": [
        "<a href=\"https://colab.research.google.com/github/onlygoodman/Python_practice/blob/master/boj_1753.ipynb\" target=\"_parent\"><img src=\"https://colab.research.google.com/assets/colab-badge.svg\" alt=\"Open In Colab\"/></a>"
      ]
    },
    {
      "cell_type": "code",
      "execution_count": null,
      "metadata": {
        "id": "uh_7fclCZYI9"
      },
      "outputs": [],
      "source": [
        "# boj 1753 최단경로\n",
        "\n",
        "import sys\n",
        "import heapq\n",
        "\n",
        "input = sys.stdin.readline\n",
        "\n",
        "INF = int(1e9)\n",
        "\n",
        "n, m = map(int, input().split())\n",
        "start = int(input())\n",
        "\n",
        "graph = [[] for _ in range(n+1)]\n",
        "visited = [False] * (n+1)\n",
        "distance = [INF] * (n+1)\n",
        "\n",
        "for _ in range(m):\n",
        "    a, b, c = map(int, input().split())\n",
        "    graph[a].append((b,c))\n",
        "    \n",
        "'''\n",
        "def get_smallest_node():\n",
        "    min_value = INF\n",
        "    index = 0\n",
        "    \n",
        "    for i in range(n+1):\n",
        "        if distance[i] < min_value and not visited[i]:\n",
        "            min_value = distance[i]\n",
        "            index = i\n",
        "            \n",
        "    return index\n",
        "'''\n",
        "\n",
        "def dijkstra(start):\n",
        "    \n",
        "    q = []\n",
        "    heapq.heappush(q, (0, start))\n",
        "    distance[start] = 0\n",
        "    \n",
        "    while q:\n",
        "        dist, now = heapq.heappop(q)\n",
        "        \n",
        "        if distance[now] < dist:\n",
        "            continue\n",
        "        for i in graph[now]:\n",
        "            cost = dist + i[1]\n",
        "            \n",
        "            if cost < distance[i[0]]:\n",
        "                distance[i[0]] = cost\n",
        "                heapq.heappush(q, (cost, i[0]))\n",
        "            \n",
        "dijkstra(start)                \n",
        "                \n",
        "for i in range(1, n+1):\n",
        "    if distance[i] == INF:\n",
        "        print(\"INF\")\n",
        "    else:\n",
        "        print(distance[i])"
      ]
    }
  ]
}