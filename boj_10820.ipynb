{
  "nbformat": 4,
  "nbformat_minor": 0,
  "metadata": {
    "colab": {
      "provenance": [],
      "authorship_tag": "ABX9TyP9aXkqIV/XVFuEtHtje914",
      "include_colab_link": true
    },
    "kernelspec": {
      "name": "python3",
      "display_name": "Python 3"
    },
    "language_info": {
      "name": "python"
    }
  },
  "cells": [
    {
      "cell_type": "markdown",
      "metadata": {
        "id": "view-in-github",
        "colab_type": "text"
      },
      "source": [
        "<a href=\"https://colab.research.google.com/github/onlygoodman/Python_practice/blob/master/boj_10820.ipynb\" target=\"_parent\"><img src=\"https://colab.research.google.com/assets/colab-badge.svg\" alt=\"Open In Colab\"/></a>"
      ]
    },
    {
      "cell_type": "code",
      "execution_count": null,
      "metadata": {
        "id": "70hz4XLRjUhf"
      },
      "outputs": [],
      "source": [
        "import sys\n",
        "\n",
        "while True:\n",
        "    line = sys.stdin.readline().rstrip('\\n')\n",
        "\n",
        "    if not line:\n",
        "        break\n",
        "\n",
        "    # 소문자, 대문자, 숫자, 공백\n",
        "    l, u, d, s = 0, 0, 0, 0\n",
        "    for each in line:\n",
        "        if each.islower():\n",
        "            l += 1\n",
        "        elif each.isupper():\n",
        "            u += 1\n",
        "        elif each.isdigit():\n",
        "            d += 1\n",
        "        elif each.isspace():\n",
        "            s += 1\n",
        "\n",
        "    print(l, u, d, s)\n",
        "    \n",
        "#rstrip'\\n' 사용에 대해.."
      ]
    }
  ]
}