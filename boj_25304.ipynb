{
  "nbformat": 4,
  "nbformat_minor": 0,
  "metadata": {
    "colab": {
      "name": "boj 25304.ipynb",
      "provenance": [],
      "authorship_tag": "ABX9TyMkA1L6Nk5OWxf0JlQuQeaB",
      "include_colab_link": true
    },
    "kernelspec": {
      "name": "python3",
      "display_name": "Python 3"
    },
    "language_info": {
      "name": "python"
    }
  },
  "cells": [
    {
      "cell_type": "markdown",
      "metadata": {
        "id": "view-in-github",
        "colab_type": "text"
      },
      "source": [
        "<a href=\"https://colab.research.google.com/github/onlygoodman/MLDLpractice/blob/master/boj_25304.ipynb\" target=\"_parent\"><img src=\"https://colab.research.google.com/assets/colab-badge.svg\" alt=\"Open In Colab\"/></a>"
      ]
    },
    {
      "cell_type": "code",
      "execution_count": null,
      "metadata": {
        "id": "9ETSR3hQjefd"
      },
      "outputs": [],
      "source": [
        "price = int(input())\n",
        "n= int(input())\n",
        "s = 0\n",
        "for _ in range(n):\n",
        "    x, y = map(int, input().split())\n",
        "    s += x*y\n",
        "\n",
        "if s==price:\n",
        "    print(\"Yes\")\n",
        "else:\n",
        "    print(\"No\")"
      ]
    }
  ]
}