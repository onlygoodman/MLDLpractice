{
  "nbformat": 4,
  "nbformat_minor": 0,
  "metadata": {
    "colab": {
      "name": "boj2475.ipynb",
      "provenance": [],
      "authorship_tag": "ABX9TyO5Aba+ybEUnQ2Phb1KAihh",
      "include_colab_link": true
    },
    "kernelspec": {
      "name": "python3",
      "display_name": "Python 3"
    },
    "language_info": {
      "name": "python"
    }
  },
  "cells": [
    {
      "cell_type": "markdown",
      "metadata": {
        "id": "view-in-github",
        "colab_type": "text"
      },
      "source": [
        "<a href=\"https://colab.research.google.com/github/onlygoodman/Python_practice/blob/master/boj2475.ipynb\" target=\"_parent\"><img src=\"https://colab.research.google.com/assets/colab-badge.svg\" alt=\"Open In Colab\"/></a>"
      ]
    },
    {
      "cell_type": "code",
      "execution_count": 1,
      "metadata": {
        "colab": {
          "base_uri": "https://localhost:8080/"
        },
        "id": "K-bGbGKXG0lk",
        "outputId": "490c7ece-c2bb-47a2-885e-6b713813c4cf"
      },
      "outputs": [
        {
          "output_type": "stream",
          "name": "stdout",
          "text": [
            "0 4 2 5 6\n",
            "1\n"
          ]
        }
      ],
      "source": [
        "data = list(map(int, input().split()))\n",
        "\n",
        "x = 0\n",
        "\n",
        "for i in range(5):\n",
        "    x += data[i]**2\n",
        "\n",
        "print(x%10)"
      ]
    }
  ]
}