{
  "nbformat": 4,
  "nbformat_minor": 0,
  "metadata": {
    "colab": {
      "provenance": [],
      "authorship_tag": "ABX9TyM7vZbi4zWuZGFqXsvjNcDL",
      "include_colab_link": true
    },
    "kernelspec": {
      "name": "python3",
      "display_name": "Python 3"
    },
    "language_info": {
      "name": "python"
    }
  },
  "cells": [
    {
      "cell_type": "markdown",
      "metadata": {
        "id": "view-in-github",
        "colab_type": "text"
      },
      "source": [
        "<a href=\"https://colab.research.google.com/github/onlygoodman/Python_practice/blob/master/boj_9295.ipynb\" target=\"_parent\"><img src=\"https://colab.research.google.com/assets/colab-badge.svg\" alt=\"Open In Colab\"/></a>"
      ]
    },
    {
      "cell_type": "code",
      "execution_count": null,
      "metadata": {
        "id": "96k7F39OrMXl"
      },
      "outputs": [],
      "source": [
        "#boj 9295\n",
        "\n",
        "import sys\n",
        "\n",
        "input = sys.stdin.readline\n",
        "n = int(input())\n",
        "\n",
        "for i in range(n):\n",
        "    x, y = map(int, input().split())\n",
        "    \n",
        "    print(\"Case {}: {}\".format(i+1, x+y))"
      ]
    }
  ]
}