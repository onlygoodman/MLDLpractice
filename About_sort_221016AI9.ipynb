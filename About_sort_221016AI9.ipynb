{
  "nbformat": 4,
  "nbformat_minor": 0,
  "metadata": {
    "colab": {
      "provenance": [],
      "authorship_tag": "ABX9TyPhPpexPu9SPdUZs1UWJxUM",
      "include_colab_link": true
    },
    "kernelspec": {
      "name": "python3",
      "display_name": "Python 3"
    },
    "language_info": {
      "name": "python"
    }
  },
  "cells": [
    {
      "cell_type": "markdown",
      "metadata": {
        "id": "view-in-github",
        "colab_type": "text"
      },
      "source": [
        "<a href=\"https://colab.research.google.com/github/onlygoodman/Python_practice/blob/master/About_sort_221016AI9.ipynb\" target=\"_parent\"><img src=\"https://colab.research.google.com/assets/colab-badge.svg\" alt=\"Open In Colab\"/></a>"
      ]
    },
    {
      "cell_type": "markdown",
      "source": [
        "#✔ 안녕하세요! \n",
        "\n",
        "오늘 공유하고 싶은 스킬은 **정렬**: 에 대한 내용입니다!! 😊\n",
        "\n",
        "python에서 자료 형태를 원하는대로 정렬하는 것은 때때로 정말 유용하고 많이 사용하는 기능이므로 익숙해지는 것이 정말 중요하다고 생각합니다.\n",
        "\n",
        "기본적인 문제부터 시작하여 오늘 공유드리는 내용을 통해 정렬이 보다 가깝게 느껴졌으면 좋겠다는 생각으로 준비해보았습니다."
      ],
      "metadata": {
        "id": "xT4-boycDRYO"
      }
    },
    {
      "cell_type": "markdown",
      "source": [
        "# ✔ 개념 1 : about sort"
      ],
      "metadata": {
        "id": "Sx-kJd6WEKKf"
      }
    },
    {
      "cell_type": "markdown",
      "source": [
        "Python 에서 제공하는 내장 정렬 함수는\n",
        "\n",
        "list.sort() 또는 sorted(list)\n",
        "\n",
        "와 같은 형태로 사용 할 수 있습니다.\n",
        "\n",
        "아래 예제를 함께 보겠습니다.\n",
        "\n",
        "아래 주의사항도 꼭 읽어보시기 바랍니다."
      ],
      "metadata": {
        "id": "khKUMsYHEjAh"
      }
    },
    {
      "cell_type": "markdown",
      "source": [
        "- 예제1"
      ],
      "metadata": {
        "id": "dFa5zT2BG1LI"
      }
    },
    {
      "cell_type": "code",
      "source": [
        "list1 = [2, 1, 3, 4, 7, 5, 6]\n",
        "list2 = [2, 1, 3, 4, 7, 5, 6]\n",
        "\n",
        "#list.sort() 함수는 파괴적 함수(원본 자체를 변형) 이므로 출력전에 미리 변형 해 줍니다.\n",
        "list1.sort()\n",
        "\n",
        "# list.sort()와 같은 방법은 본래의 list자체를 변형하는 파괴적 함수입니다.\n",
        "# 파괴적 함수에 대해 모르시는 분들은 파이썬 파괴함수/ 비파괴함수에 대해 검색해보시기 바랍니다.\n",
        "# https://takudaddy.tistory.com/m/145 - (파괴함수, 비파괴함수에 대한 링크)\n",
        "\n",
        "print(\"list.sort()를 활용 한 방법 :\", list1)\n",
        "print(\"sorted(list)를 활용 한 방법 :\", sorted(list2))"
      ],
      "metadata": {
        "colab": {
          "base_uri": "https://localhost:8080/"
        },
        "id": "A8WTGVXREuXr",
        "outputId": "86f53d62-1a38-4a82-86c3-99c50bb1dd8f"
      },
      "execution_count": 6,
      "outputs": [
        {
          "output_type": "stream",
          "name": "stdout",
          "text": [
            "list.sort()를 활용 한 방법 : [1, 2, 3, 4, 5, 6, 7]\n",
            "sorted(list)를 활용 한 방법 : [1, 2, 3, 4, 5, 6, 7]\n"
          ]
        }
      ]
    },
    {
      "cell_type": "markdown",
      "source": [
        "- 유제1\n",
        "\n",
        "https://www.acmicpc.net/problem/2750\n",
        "\n",
        "위의 개념을 활용하여 풀 수 있는 문제입니다.\n",
        "\n",
        "간단히 풀 수 있는 문제이므로 해결하고 다음 개념을 봐주세요-!"
      ],
      "metadata": {
        "id": "feFXgmN0Gt25"
      }
    },
    {
      "cell_type": "markdown",
      "source": [
        "# ✔ 개념2 : 선택적 정렬?\n",
        "\n",
        "선택적 정렬을 설명하기 전에 코드를 먼저 보며 느낌을 잡아 보겠습니다."
      ],
      "metadata": {
        "id": "rJgWBFBRHVH6"
      }
    },
    {
      "cell_type": "code",
      "source": [
        "tuple_list = [(0, 1), (5, 1), (3, 4), (2, 7), (1, 4)]\n",
        "print(sorted(tuple_list))"
      ],
      "metadata": {
        "colab": {
          "base_uri": "https://localhost:8080/"
        },
        "id": "JFfhqt70H2Sf",
        "outputId": "98ee7cf7-ca51-4ef6-a45b-eecb12e2b4b3"
      },
      "execution_count": 7,
      "outputs": [
        {
          "output_type": "stream",
          "name": "stdout",
          "text": [
            "[(0, 1), (1, 4), (2, 7), (3, 4), (5, 1)]\n"
          ]
        }
      ]
    },
    {
      "cell_type": "code",
      "source": [
        "tuple_list2 = [('C', 40, 300), ('A', 70, 500), ('B', 90, 100), ('D', 20, 400)]\n",
        "print(sorted(tuple_list2))"
      ],
      "metadata": {
        "colab": {
          "base_uri": "https://localhost:8080/"
        },
        "id": "PmKvKnnSIMXp",
        "outputId": "c9b9fa40-e246-4eb4-91af-87a185602e9e"
      },
      "execution_count": 9,
      "outputs": [
        {
          "output_type": "stream",
          "name": "stdout",
          "text": [
            "[('A', 70, 500), ('B', 90, 100), ('C', 40, 300), ('D', 20, 400)]\n"
          ]
        }
      ]
    },
    {
      "cell_type": "markdown",
      "source": [
        "앞의 결과가 어떻게 정렬되고 있는지 느낌이 오시나요?\n",
        "\n",
        "리스트 안의 요소들은 각각 튜플 형태로 구성이 되어있습니다.\n",
        "\n",
        "(항상 강조 드리겠습니다. 현재 어떤 자료형태를 다루고 있는지를 알아야 나중에 코드의 흐름을 상상하기 쉽습니다.)\n",
        "\n",
        "정렬을 하니 각각의 **튜플안의 0번째 인덱스를 기준** 으로 정렬이 된 모습을 볼 수 있습니다."
      ],
      "metadata": {
        "id": "1K984I9hI8ia"
      }
    },
    {
      "cell_type": "markdown",
      "source": [
        "---------------------------------\n",
        "여기서 잠깐 -!\n",
        "\n",
        "파이썬은 기본 정렬 라이브러리인 sorted()함수를 제공합니다. sorted는 퀵 정렬과 동작 방식이 비슷한 병합 정렬을 기반으로 만들어졌습니다. 병합정렬은 일반적으로 퀵정렬보다 느리지만 최악의 경우에도 시간복잡도 O(NlogN)을 보장한다는 특징이 있습니다.\n",
        "\n",
        "-> 요약하면 대충 내장함수가 효율적으로 짜여진 코드이므로 실행속도가 빠른 편입니다..!\n",
        "\n",
        "- 출처 : https://doing7.tistory.com/m/73\n",
        "\n",
        "(다양한 정렬 기법에 대해서 공부해보실 분들은 들어가서 한번 훑어보시는것 추천드립니다!)"
      ],
      "metadata": {
        "id": "vOGfImFEJ2SS"
      }
    },
    {
      "cell_type": "markdown",
      "source": [
        "---------------------\n",
        "\n",
        "다시 돌아와서 상황극을 한번 해보겠습니다.\n",
        "\n",
        "나는 튜플의 다른 요소를 기준으로 정렬하고 싶은데... \n",
        "\n",
        "어떻게 하면 다른 요소를 기준으로 정렬 할 수 있을까?"
      ],
      "metadata": {
        "id": "Hqa50gaXJ5Su"
      }
    },
    {
      "cell_type": "code",
      "source": [
        "tuple_list = [(0, 1), (5, 1), (3, 4), (2, 7), (1, 4)]\n",
        "\n",
        "print(\"0번 째 요소를 기준으로 :\", sorted(tuple_list, key = lambda x : x[0]))\n",
        "print(\"1번 째 요소를 기준으로 :\", sorted(tuple_list, key = lambda x : x[1]))"
      ],
      "metadata": {
        "colab": {
          "base_uri": "https://localhost:8080/"
        },
        "id": "PrLfXa8TKiBz",
        "outputId": "a82c2476-1ff3-4753-96e7-572596ec9e54"
      },
      "execution_count": 13,
      "outputs": [
        {
          "output_type": "stream",
          "name": "stdout",
          "text": [
            "0번 째 요소를 기준으로 : [(0, 1), (1, 4), (2, 7), (3, 4), (5, 1)]\n",
            "1번 째 요소를 기준으로 : [(0, 1), (5, 1), (3, 4), (1, 4), (2, 7)]\n"
          ]
        }
      ]
    },
    {
      "cell_type": "code",
      "source": [
        "tuple_list2 = [('C', 40, 300), ('A', 70, 500), ('B', 90, 100), ('D', 20, 400)]\n",
        "\n",
        "for i in range(3):\n",
        "  print(\"{}번 째 요소를 기준으로 : {}\".format(i, sorted(tuple_list2, key = lambda x: x[i])))"
      ],
      "metadata": {
        "colab": {
          "base_uri": "https://localhost:8080/"
        },
        "id": "0v1rZeZ0LH74",
        "outputId": "f8abc409-45e2-4620-aef6-0c7a5c470fbb"
      },
      "execution_count": 15,
      "outputs": [
        {
          "output_type": "stream",
          "name": "stdout",
          "text": [
            "0번 째 요소를 기준으로 : [('A', 70, 500), ('B', 90, 100), ('C', 40, 300), ('D', 20, 400)]\n",
            "1번 째 요소를 기준으로 : [('D', 20, 400), ('C', 40, 300), ('A', 70, 500), ('B', 90, 100)]\n",
            "2번 째 요소를 기준으로 : [('B', 90, 100), ('C', 40, 300), ('D', 20, 400), ('A', 70, 500)]\n"
          ]
        }
      ]
    },
    {
      "cell_type": "markdown",
      "source": [
        "위의 사용법이 이해가 되셨다면\n",
        "위의 코드를 활용하여 다음 문제를 풀어봅시다.\n",
        "\n",
        "- 유제2\n",
        "\n",
        "https://www.acmicpc.net/problem/11650"
      ],
      "metadata": {
        "id": "zcVckH0oLjr6"
      }
    },
    {
      "cell_type": "markdown",
      "source": [
        "오늘 가볍게 준비한 내용은 여기까지 입니다.\n",
        "\n",
        "감사합니다."
      ],
      "metadata": {
        "id": "jXukvmoYMBqq"
      }
    }
  ]
}