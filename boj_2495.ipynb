{
  "nbformat": 4,
  "nbformat_minor": 0,
  "metadata": {
    "colab": {
      "provenance": [],
      "authorship_tag": "ABX9TyPe9Ryc42xUBTijHKVAnntJ",
      "include_colab_link": true
    },
    "kernelspec": {
      "name": "python3",
      "display_name": "Python 3"
    },
    "language_info": {
      "name": "python"
    }
  },
  "cells": [
    {
      "cell_type": "markdown",
      "metadata": {
        "id": "view-in-github",
        "colab_type": "text"
      },
      "source": [
        "<a href=\"https://colab.research.google.com/github/onlygoodman/Python_practice/blob/master/boj_2495.ipynb\" target=\"_parent\"><img src=\"https://colab.research.google.com/assets/colab-badge.svg\" alt=\"Open In Colab\"/></a>"
      ]
    },
    {
      "cell_type": "code",
      "execution_count": 2,
      "metadata": {
        "colab": {
          "base_uri": "https://localhost:8080/"
        },
        "id": "45WrINZIZyrb",
        "outputId": "35792320-a703-4a9f-e90e-3659a8c1470a"
      },
      "outputs": [
        {
          "output_type": "stream",
          "name": "stdout",
          "text": [
            "22233331\n",
            "4\n",
            "12312312\n",
            "1\n",
            "11223331\n",
            "3\n"
          ]
        }
      ],
      "source": [
        "for _ in range(3):\n",
        "    word = input()\n",
        "    \n",
        "    s = 0\n",
        "    n = word[0]\n",
        "    \n",
        "    answer = []\n",
        "    for w in word:\n",
        "        \n",
        "        if n == w:\n",
        "            s += 1\n",
        "            n = w\n",
        "            \n",
        "        elif n != w:\n",
        "            answer.append(s)\n",
        "            s = 1\n",
        "            n = w\n",
        "\n",
        "    if answer:\n",
        "      print(max(max(answer), s))\n",
        "    \n",
        "    else:\n",
        "      print(s)"
      ]
    }
  ]
}