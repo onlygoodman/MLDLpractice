{
  "nbformat": 4,
  "nbformat_minor": 0,
  "metadata": {
    "colab": {
      "provenance": [],
      "authorship_tag": "ABX9TyOJgzB+9mBPap1nmYeoqz9j",
      "include_colab_link": true
    },
    "kernelspec": {
      "name": "python3",
      "display_name": "Python 3"
    },
    "language_info": {
      "name": "python"
    }
  },
  "cells": [
    {
      "cell_type": "markdown",
      "metadata": {
        "id": "view-in-github",
        "colab_type": "text"
      },
      "source": [
        "<a href=\"https://colab.research.google.com/github/onlygoodman/Python_practice/blob/master/boj_2506.ipynb\" target=\"_parent\"><img src=\"https://colab.research.google.com/assets/colab-badge.svg\" alt=\"Open In Colab\"/></a>"
      ]
    },
    {
      "cell_type": "code",
      "execution_count": 2,
      "metadata": {
        "colab": {
          "base_uri": "https://localhost:8080/"
        },
        "id": "MqK6-get1g_c",
        "outputId": "d5c8e205-c5ed-4327-84a9-1bacba0dbf2a"
      },
      "outputs": [
        {
          "output_type": "stream",
          "name": "stdout",
          "text": [
            "10\n",
            "1 0 1 1 1 0 0 1 1 0\n",
            "10\n"
          ]
        }
      ],
      "source": [
        "n = int(input())\n",
        "\n",
        "ans = list(map(int, input().split()))\n",
        "\n",
        "c = 0\n",
        "s = 1\n",
        "\n",
        "score = 0\n",
        "\n",
        "for i in ans:\n",
        "    if i == 1 and c == 1:\n",
        "        s+=1\n",
        "        score += s\n",
        "        \n",
        "    elif i == 1 and c == 0 :\n",
        "        score += s\n",
        "        c = 1\n",
        "        \n",
        "    elif i == 0 :\n",
        "        c = 0\n",
        "        s = 1\n",
        "print(score)"
      ]
    }
  ]
}