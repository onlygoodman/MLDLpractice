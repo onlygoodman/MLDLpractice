{
  "nbformat": 4,
  "nbformat_minor": 0,
  "metadata": {
    "colab": {
      "provenance": [],
      "authorship_tag": "ABX9TyOrgiAaHzo15tqQzOOSoz68",
      "include_colab_link": true
    },
    "kernelspec": {
      "name": "python3",
      "display_name": "Python 3"
    },
    "language_info": {
      "name": "python"
    }
  },
  "cells": [
    {
      "cell_type": "markdown",
      "metadata": {
        "id": "view-in-github",
        "colab_type": "text"
      },
      "source": [
        "<a href=\"https://colab.research.google.com/github/onlygoodman/Python_practice/blob/master/boj_5218.ipynb\" target=\"_parent\"><img src=\"https://colab.research.google.com/assets/colab-badge.svg\" alt=\"Open In Colab\"/></a>"
      ]
    },
    {
      "cell_type": "code",
      "execution_count": null,
      "metadata": {
        "id": "E_WbXxKerq8g"
      },
      "outputs": [],
      "source": [
        "def cal_distance(a, b):\n",
        "  if b - a >= 0 :\n",
        "    return b - a\n",
        "  \n",
        "  else :\n",
        "    return b - a + 26\n",
        "\n",
        "alphadic = {chr(i) : i-64 for i in range(65, 91)}\n",
        "##print(alphadic)\n",
        "\n",
        "case = int(input())\n",
        "\n",
        "for i in range(case):\n",
        "  answer = []\n",
        "  w1, w2 = input().split()\n",
        "\n",
        "  for j in range(len(w1)):\n",
        "    answer.append(cal_distance(alphadic[w1[j]], alphadic[w2[j]]))\n",
        "\n",
        "  print('Distances: {}'.format(\" \".join(list(map(str,answer)))))"
      ]
    }
  ]
}