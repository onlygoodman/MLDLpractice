{
  "nbformat": 4,
  "nbformat_minor": 0,
  "metadata": {
    "colab": {
      "name": "sentiment_predict_model_try1",
      "provenance": [],
      "authorship_tag": "ABX9TyMsWjwM/bG8mEkbP08Kk8et",
      "include_colab_link": true
    },
    "kernelspec": {
      "name": "python3",
      "display_name": "Python 3"
    },
    "language_info": {
      "name": "python"
    },
    "accelerator": "GPU",
    "gpuClass": "standard"
  },
  "cells": [
    {
      "cell_type": "markdown",
      "metadata": {
        "id": "view-in-github",
        "colab_type": "text"
      },
      "source": [
        "<a href=\"https://colab.research.google.com/github/onlygoodman/MLDLpractice/blob/master/sentiment_predict_model_try1.ipynb\" target=\"_parent\"><img src=\"https://colab.research.google.com/assets/colab-badge.svg\" alt=\"Open In Colab\"/></a>"
      ]
    },
    {
      "cell_type": "code",
      "execution_count": 12,
      "metadata": {
        "id": "VreTvmumACtD"
      },
      "outputs": [],
      "source": [
        "import pandas as pd\n",
        "import numpy as np\n",
        "import matplotlib.pyplot as plt\n",
        "import re\n",
        "import urllib.request\n",
        "from konlpy.tag import Okt\n",
        "from tqdm import tqdm\n",
        "from tensorflow.keras.preprocessing.text import Tokenizer\n",
        "from tensorflow.keras.preprocessing.sequence import pad_sequences"
      ]
    },
    {
      "cell_type": "code",
      "source": [
        "!pip install konlpy"
      ],
      "metadata": {
        "colab": {
          "base_uri": "https://localhost:8080/"
        },
        "id": "BOs9IawQC81O",
        "outputId": "92f6538b-d8f1-4f69-91c6-c3296431c8fe"
      },
      "execution_count": 3,
      "outputs": [
        {
          "output_type": "stream",
          "name": "stdout",
          "text": [
            "Looking in indexes: https://pypi.org/simple, https://us-python.pkg.dev/colab-wheels/public/simple/\n",
            "Collecting konlpy\n",
            "  Downloading konlpy-0.6.0-py2.py3-none-any.whl (19.4 MB)\n",
            "\u001b[K     |████████████████████████████████| 19.4 MB 1.2 MB/s \n",
            "\u001b[?25hRequirement already satisfied: lxml>=4.1.0 in /usr/local/lib/python3.7/dist-packages (from konlpy) (4.2.6)\n",
            "Requirement already satisfied: numpy>=1.6 in /usr/local/lib/python3.7/dist-packages (from konlpy) (1.21.6)\n",
            "Collecting JPype1>=0.7.0\n",
            "  Downloading JPype1-1.4.0-cp37-cp37m-manylinux_2_5_x86_64.manylinux1_x86_64.whl (453 kB)\n",
            "\u001b[K     |████████████████████████████████| 453 kB 68.9 MB/s \n",
            "\u001b[?25hRequirement already satisfied: typing-extensions in /usr/local/lib/python3.7/dist-packages (from JPype1>=0.7.0->konlpy) (4.1.1)\n",
            "Installing collected packages: JPype1, konlpy\n",
            "Successfully installed JPype1-1.4.0 konlpy-0.6.0\n"
          ]
        }
      ]
    },
    {
      "cell_type": "code",
      "source": [
        "data = pd.read_csv('./ChatbotData.csv')\n",
        "\n",
        "data.info()"
      ],
      "metadata": {
        "colab": {
          "base_uri": "https://localhost:8080/"
        },
        "id": "j3CHfYPoA1P0",
        "outputId": "bea47beb-28e9-4692-9a0c-480a5d87184c"
      },
      "execution_count": 4,
      "outputs": [
        {
          "output_type": "stream",
          "name": "stdout",
          "text": [
            "<class 'pandas.core.frame.DataFrame'>\n",
            "RangeIndex: 11823 entries, 0 to 11822\n",
            "Data columns (total 3 columns):\n",
            " #   Column  Non-Null Count  Dtype \n",
            "---  ------  --------------  ----- \n",
            " 0   Q       11823 non-null  object\n",
            " 1   A       11823 non-null  object\n",
            " 2   label   11823 non-null  int64 \n",
            "dtypes: int64(1), object(2)\n",
            "memory usage: 277.2+ KB\n"
          ]
        }
      ]
    },
    {
      "cell_type": "code",
      "source": [
        "#label 별 데이터 분포\n",
        "data['label'].value_counts().plot(kind = 'bar')"
      ],
      "metadata": {
        "colab": {
          "base_uri": "https://localhost:8080/",
          "height": 280
        },
        "id": "ljU91weFDJz9",
        "outputId": "8b366511-afc5-43ab-ecc0-fd4f68271dff"
      },
      "execution_count": 5,
      "outputs": [
        {
          "output_type": "execute_result",
          "data": {
            "text/plain": [
              "<matplotlib.axes._subplots.AxesSubplot at 0x7f8c1da3b6d0>"
            ]
          },
          "metadata": {},
          "execution_count": 5
        },
        {
          "output_type": "display_data",
          "data": {
            "text/plain": [
              "<Figure size 432x288 with 1 Axes>"
            ],
            "image/png": "[encoded data removed]"
          },
          "metadata": {
            "needs_background": "light"
          }
        }
      ]
    },
    {
      "cell_type": "code",
      "source": [
        "data.loc[data['label'] == 2, 'label'] = 1"
      ],
      "metadata": {
        "id": "PLP4NSZGJJ6S"
      },
      "execution_count": 6,
      "outputs": []
    },
    {
      "cell_type": "code",
      "source": [
        "#label 별 데이터 분포\n",
        "data['label'].value_counts().plot(kind = 'bar')"
      ],
      "metadata": {
        "colab": {
          "base_uri": "https://localhost:8080/",
          "height": 280
        },
        "id": "Z8GVxiZLJSRa",
        "outputId": "d33a985d-5624-4c56-fe8d-0cc24e05a54b"
      },
      "execution_count": 7,
      "outputs": [
        {
          "output_type": "execute_result",
          "data": {
            "text/plain": [
              "<matplotlib.axes._subplots.AxesSubplot at 0x7f8c1b5e4550>"
            ]
          },
          "metadata": {},
          "execution_count": 7
        },
        {
          "output_type": "display_data",
          "data": {
            "text/plain": [
              "<Figure size 432x288 with 1 Axes>"
            ],
            "image/png": "[encoded data removed]"
          },
          "metadata": {
            "needs_background": "light"
          }
        }
      ]
    },
    {
      "cell_type": "code",
      "source": [
        "data['Q']=data['Q'].str.replace(\"[^0-9ㄱ-ㅎㅏ-ㅣ가-힣]\",'')\n",
        "data[:5]\n",
        "\n",
        "#숫자는 유지하여 전처리"
      ],
      "metadata": {
        "colab": {
          "base_uri": "https://localhost:8080/",
          "height": 262
        },
        "id": "-DecKthLDYYO",
        "outputId": "b5ddca46-f528-492f-edfa-13dd4892b33f"
      },
      "execution_count": 8,
      "outputs": [
        {
          "output_type": "stream",
          "name": "stderr",
          "text": [
            "/usr/local/lib/python3.7/dist-packages/ipykernel_launcher.py:1: FutureWarning: The default value of regex will change from True to False in a future version.\n",
            "  \"\"\"Entry point for launching an IPython kernel.\n"
          ]
        },
        {
          "output_type": "execute_result",
          "data": {
            "text/plain": [
              "              Q            A  label\n",
              "0          12시땡   하루가 또 가네요.      0\n",
              "1     1지망학교떨어졌어    위로해 드립니다.      0\n",
              "2    3박4일놀러가고싶다  여행은 언제나 좋죠.      0\n",
              "3  3박4일정도놀러가고싶다  여행은 언제나 좋죠.      0\n",
              "4           심하네   눈살이 찌푸려지죠.      0"
            ],
            "text/html": [
              "\n",
              "  <div id=\"df-f89a3e02-19a5-43ee-b671-e24ab0601396\">\n",
              "    <div class=\"colab-df-container\">\n",
              "      <div>\n",
              "<style scoped>\n",
              "    .dataframe tbody tr th:only-of-type {\n",
              "        vertical-align: middle;\n",
              "    }\n",
              "\n",
              "    .dataframe tbody tr th {\n",
              "        vertical-align: top;\n",
              "    }\n",
              "\n",
              "    .dataframe thead th {\n",
              "        text-align: right;\n",
              "    }\n",
              "</style>\n",
              "<table border=\"1\" class=\"dataframe\">\n",
              "  <thead>\n",
              "    <tr style=\"text-align: right;\">\n",
              "      <th></th>\n",
              "      <th>Q</th>\n",
              "      <th>A</th>\n",
              "      <th>label</th>\n",
              "    </tr>\n",
              "  </thead>\n",
              "  <tbody>\n",
              "    <tr>\n",
              "      <th>0</th>\n",
              "      <td>12시땡</td>\n",
              "      <td>하루가 또 가네요.</td>\n",
              "      <td>0</td>\n",
              "    </tr>\n",
              "    <tr>\n",
              "      <th>1</th>\n",
              "      <td>1지망학교떨어졌어</td>\n",
              "      <td>위로해 드립니다.</td>\n",
              "      <td>0</td>\n",
              "    </tr>\n",
              "    <tr>\n",
              "      <th>2</th>\n",
              "      <td>3박4일놀러가고싶다</td>\n",
              "      <td>여행은 언제나 좋죠.</td>\n",
              "      <td>0</td>\n",
              "    </tr>\n",
              "    <tr>\n",
              "      <th>3</th>\n",
              "      <td>3박4일정도놀러가고싶다</td>\n",
              "      <td>여행은 언제나 좋죠.</td>\n",
              "      <td>0</td>\n",
              "    </tr>\n",
              "    <tr>\n",
              "      <th>4</th>\n",
              "      <td>심하네</td>\n",
              "      <td>눈살이 찌푸려지죠.</td>\n",
              "      <td>0</td>\n",
              "    </tr>\n",
              "  </tbody>\n",
              "</table>\n",
              "</div>\n",
              "      <button class=\"colab-df-convert\" onclick=\"convertToInteractive('df-f89a3e02-19a5-43ee-b671-e24ab0601396')\"\n",
              "              title=\"Convert this dataframe to an interactive table.\"\n",
              "              style=\"display:none;\">\n",
              "        \n",
              "  <svg xmlns=\"http://www.w3.org/2000/svg\" height=\"24px\"viewBox=\"0 0 24 24\"\n",
              "       width=\"24px\">\n",
              "    <path d=\"M0 0h24v24H0V0z\" fill=\"none\"/>\n",
              "    <path d=\"M18.56 5.44l.94 2.06.94-2.06 2.06-.94-2.06-.94-.94-2.06-.94 2.06-2.06.94zm-11 1L8.5 8.5l.94-2.06 2.06-.94-2.06-.94L8.5 2.5l-.94 2.06-2.06.94zm10 10l.94 2.06.94-2.06 2.06-.94-2.06-.94-.94-2.06-.94 2.06-2.06.94z\"/><path d=\"M17.41 7.96l-1.37-1.37c-.4-.4-.92-.59-1.43-.59-.52 0-1.04.2-1.43.59L10.3 9.45l-7.72 7.72c-.78.78-.78 2.05 0 2.83L4 21.41c.39.39.9.59 1.41.59.51 0 1.02-.2 1.41-.59l7.78-7.78 2.81-2.81c.8-.78.8-2.07 0-2.86zM5.41 20L4 18.59l7.72-7.72 1.47 1.35L5.41 20z\"/>\n",
              "  </svg>\n",
              "      </button>\n",
              "      \n",
              "  <style>\n",
              "    .colab-df-container {\n",
              "      display:flex;\n",
              "      flex-wrap:wrap;\n",
              "      gap: 12px;\n",
              "    }\n",
              "\n",
              "    .colab-df-convert {\n",
              "      background-color: #E8F0FE;\n",
              "      border: none;\n",
              "      border-radius: 50%;\n",
              "      cursor: pointer;\n",
              "      display: none;\n",
              "      fill: #1967D2;\n",
              "      height: 32px;\n",
              "      padding: 0 0 0 0;\n",
              "      width: 32px;\n",
              "    }\n",
              "\n",
              "    .colab-df-convert:hover {\n",
              "      background-color: #E2EBFA;\n",
              "      box-shadow: 0px 1px 2px rgba(60, 64, 67, 0.3), 0px 1px 3px 1px rgba(60, 64, 67, 0.15);\n",
              "      fill: #174EA6;\n",
              "    }\n",
              "\n",
              "    [theme=dark] .colab-df-convert {\n",
              "      background-color: #3B4455;\n",
              "      fill: #D2E3FC;\n",
              "    }\n",
              "\n",
              "    [theme=dark] .colab-df-convert:hover {\n",
              "      background-color: #434B5C;\n",
              "      box-shadow: 0px 1px 3px 1px rgba(0, 0, 0, 0.15);\n",
              "      filter: drop-shadow(0px 1px 2px rgba(0, 0, 0, 0.3));\n",
              "      fill: #FFFFFF;\n",
              "    }\n",
              "  </style>\n",
              "\n",
              "      <script>\n",
              "        const buttonEl =\n",
              "          document.querySelector('#df-f89a3e02-19a5-43ee-b671-e24ab0601396 button.colab-df-convert');\n",
              "        buttonEl.style.display =\n",
              "          google.colab.kernel.accessAllowed ? 'block' : 'none';\n",
              "\n",
              "        async function convertToInteractive(key) {\n",
              "          const element = document.querySelector('#df-f89a3e02-19a5-43ee-b671-e24ab0601396');\n",
              "          const dataTable =\n",
              "            await google.colab.kernel.invokeFunction('convertToInteractive',\n",
              "                                                     [key], {});\n",
              "          if (!dataTable) return;\n",
              "\n",
              "          const docLinkHtml = 'Like what you see? Visit the ' +\n",
              "            '<a target=\"_blank\" href=https://colab.research.google.com/notebooks/data_table.ipynb>data table notebook</a>'\n",
              "            + ' to learn more about interactive tables.';\n",
              "          element.innerHTML = '';\n",
              "          dataTable['output_type'] = 'display_data';\n",
              "          await google.colab.output.renderOutput(dataTable, element);\n",
              "          const docLink = document.createElement('div');\n",
              "          docLink.innerHTML = docLinkHtml;\n",
              "          element.appendChild(docLink);\n",
              "        }\n",
              "      </script>\n",
              "    </div>\n",
              "  </div>\n",
              "  "
            ]
          },
          "metadata": {},
          "execution_count": 8
        }
      ]
    },
    {
      "cell_type": "code",
      "source": [
        "# data['Q']=data['Q'].str.replace('^ +', \"\")\n",
        "# data['Q'].replace(\"\", np.nan, inplace=True)"
      ],
      "metadata": {
        "id": "YWUu-ai0ES8z"
      },
      "execution_count": 9,
      "outputs": []
    },
    {
      "cell_type": "code",
      "source": [
        "stopwords=['의','가','이','은','들','는','좀','잘','걍','과','도','를', '으로','자','에','와','한','하다']"
      ],
      "metadata": {
        "id": "2lrIHKduEpMp"
      },
      "execution_count": 10,
      "outputs": []
    },
    {
      "cell_type": "code",
      "source": [
        "okt=Okt()\n",
        "X_train = []\n",
        "for sentence in tqdm(data['Q']):\n",
        "    tokenized_sentence = okt.morphs(sentence, stem=True) # 토큰화\n",
        "    stopwords_removed_sentence = [word for word in tokenized_sentence if not word in stopwords] # 불용어 제거\n",
        "    X_train.append(stopwords_removed_sentence)"
      ],
      "metadata": {
        "colab": {
          "base_uri": "https://localhost:8080/"
        },
        "id": "R3JFRphrFAWi",
        "outputId": "f4059947-84df-42c9-d7aa-6b4ce58c47d7"
      },
      "execution_count": 13,
      "outputs": [
        {
          "output_type": "stream",
          "name": "stderr",
          "text": [
            "100%|██████████| 11823/11823 [00:43<00:00, 268.78it/s]\n"
          ]
        }
      ]
    },
    {
      "cell_type": "code",
      "source": [
        "tokenizer= Tokenizer()\n",
        "tokenizer.fit_on_texts(X_train)"
      ],
      "metadata": {
        "id": "dw4TK3K9FEHZ"
      },
      "execution_count": 14,
      "outputs": []
    },
    {
      "cell_type": "code",
      "source": [
        "tokenizer.word_index"
      ],
      "metadata": {
        "colab": {
          "base_uri": "https://localhost:8080/"
        },
        "id": "Vk7Q6rywHeu2",
        "outputId": "6443e16b-8dbc-4dce-f34f-8ec09200de1f"
      },
      "execution_count": 15,
      "outputs": [
        {
          "output_type": "execute_result",
          "data": {
            "text/plain": [
              "{'좋아하다': 1,\n",
              " '사람': 2,\n",
              " '같다': 3,\n",
              " '을': 4,\n",
              " '너무': 5,\n",
              " '보다': 6,\n",
              " '좋다': 7,\n",
              " '나': 8,\n",
              " '없다': 9,\n",
              " '내': 10,\n",
              " '헤어지다': 11,\n",
              " '있다': 12,\n",
              " '사랑': 13,\n",
              " '되다': 14,\n",
              " '하': 15,\n",
              " '한테': 16,\n",
              " '돼다': 17,\n",
              " '이별': 18,\n",
              " '연락': 19,\n",
              " '썸': 20,\n",
              " '친구': 21,\n",
              " '먹다': 22,\n",
              " '어떻다': 23,\n",
              " '오늘': 24,\n",
              " '남자': 25,\n",
              " '가다': 26,\n",
              " '오다': 27,\n",
              " '뭐': 28,\n",
              " '만나다': 29,\n",
              " '만': 30,\n",
              " '여자친구': 31,\n",
              " '남자친구': 32,\n",
              " '에서': 33,\n",
              " '랑': 34,\n",
              " '이다': 35,\n",
              " '생각': 36,\n",
              " '다': 37,\n",
              " '하고': 38,\n",
              " '마음': 39,\n",
              " '타다': 40,\n",
              " '짝남': 41,\n",
              " '여자': 42,\n",
              " '싶다': 43,\n",
              " '힘들다': 44,\n",
              " '알다': 45,\n",
              " '안': 46,\n",
              " '받다': 47,\n",
              " '인데': 48,\n",
              " '연애': 49,\n",
              " '왜': 50,\n",
              " '지': 51,\n",
              " '끄다': 52,\n",
              " '힘드다': 53,\n",
              " '못': 54,\n",
              " '해': 55,\n",
              " '모르다': 56,\n",
              " '고': 57,\n",
              " '너': 58,\n",
              " '애': 59,\n",
              " '많다': 60,\n",
              " '면': 61,\n",
              " '짝녀': 62,\n",
              " '게': 63,\n",
              " '않다': 64,\n",
              " '로': 65,\n",
              " '이랑': 66,\n",
              " '많이': 67,\n",
              " '일': 68,\n",
              " '결혼': 69,\n",
              " '중': 70,\n",
              " '자꾸': 71,\n",
              " '해주다': 72,\n",
              " '그': 73,\n",
              " '네': 74,\n",
              " '별': 75,\n",
              " '야': 76,\n",
              " '제': 77,\n",
              " '이야': 78,\n",
              " '시간': 79,\n",
              " '싫다': 80,\n",
              " '해보다': 81,\n",
              " '자다': 82,\n",
              " '들다': 83,\n",
              " '짝사랑': 84,\n",
              " '잊다': 85,\n",
              " '아니다': 86,\n",
              " '괜찮다': 87,\n",
              " '혼자': 88,\n",
              " '선물': 89,\n",
              " '아프다': 90,\n",
              " '진짜': 91,\n",
              " '후': 92,\n",
              " '그녀': 93,\n",
              " '말': 94,\n",
              " '또': 95,\n",
              " '때': 96,\n",
              " '달': 97,\n",
              " '나다': 98,\n",
              " '정말': 99,\n",
              " '방법': 100,\n",
              " '이나': 101,\n",
              " '날': 102,\n",
              " '야하다': 103,\n",
              " '살다': 104,\n",
              " '에게': 105,\n",
              " '술': 106,\n",
              " '다시': 107,\n",
              " '이제': 108,\n",
              " '해도': 109,\n",
              " '계속': 110,\n",
              " '사귀다': 111,\n",
              " '이렇게': 112,\n",
              " '인': 113,\n",
              " '째': 114,\n",
              " '카톡': 115,\n",
              " '생기다': 116,\n",
              " '주다': 117,\n",
              " '아': 118,\n",
              " '안되다': 119,\n",
              " '고민': 120,\n",
              " '이안': 121,\n",
              " '준비': 122,\n",
              " '집': 123,\n",
              " '끝나다': 124,\n",
              " '더': 125,\n",
              " '맞다': 126,\n",
              " '여친': 127,\n",
              " '고백': 128,\n",
              " '말다': 129,\n",
              " '뭘': 130,\n",
              " '적': 131,\n",
              " '인가': 132,\n",
              " '꿈': 133,\n",
              " '어떡하다': 134,\n",
              " '그냥': 135,\n",
              " '남친': 136,\n",
              " '돈': 137,\n",
              " '거': 138,\n",
              " '기다리다': 139,\n",
              " '사다': 140,\n",
              " '생각나다': 141,\n",
              " '끝': 142,\n",
              " '썸남': 143,\n",
              " '까지': 144,\n",
              " '공부': 145,\n",
              " '머리': 146,\n",
              " '남다': 147,\n",
              " '보내다': 148,\n",
              " '것': 149,\n",
              " '나르다': 150,\n",
              " '개월': 151,\n",
              " '놀다': 152,\n",
              " '저': 153,\n",
              " '하루': 154,\n",
              " '정리': 155,\n",
              " '나오다': 156,\n",
              " '예쁘다': 157,\n",
              " '죽다': 158,\n",
              " '차다': 159,\n",
              " '여자애': 160,\n",
              " '행복하다': 161,\n",
              " '애가': 162,\n",
              " '같이': 163,\n",
              " '버리다': 164,\n",
              " '인지': 165,\n",
              " '건가': 166,\n",
              " '데이트': 167,\n",
              " '요': 168,\n",
              " '1년': 169,\n",
              " '결국': 170,\n",
              " '그렇다': 171,\n",
              " '때문': 172,\n",
              " '무슨': 173,\n",
              " '젠': 174,\n",
              " '3': 175,\n",
              " '반': 176,\n",
              " '미치다': 177,\n",
              " '느낌': 178,\n",
              " '서': 179,\n",
              " '어제': 180,\n",
              " '2': 181,\n",
              " '주': 182,\n",
              " '내다': 183,\n",
              " '관심': 184,\n",
              " '걸다': 185,\n",
              " '쉬다': 186,\n",
              " '먼저': 187,\n",
              " '이네': 188,\n",
              " '재회': 189,\n",
              " '우리': 190,\n",
              " '지금': 191,\n",
              " '무섭다': 192,\n",
              " '귀찮다': 193,\n",
              " '언제': 194,\n",
              " '기분': 195,\n",
              " '가나': 196,\n",
              " '눈': 197,\n",
              " '알': 198,\n",
              " '어떤': 199,\n",
              " '아직도': 200,\n",
              " '갑자기': 201,\n",
              " '두': 202,\n",
              " '써다': 203,\n",
              " '넘다': 204,\n",
              " '싸우다': 205,\n",
              " '떠나다': 206,\n",
              " '쓰다': 207,\n",
              " '참다': 208,\n",
              " '나가다': 209,\n",
              " '갈다': 210,\n",
              " '감정': 211,\n",
              " '놓다': 212,\n",
              " '회사': 213,\n",
              " '마지막': 214,\n",
              " '인거': 215,\n",
              " '난': 216,\n",
              " '여행': 217,\n",
              " '어렵다': 218,\n",
              " '다른': 219,\n",
              " '엄마': 220,\n",
              " '이상하다': 221,\n",
              " '아무': 222,\n",
              " '어디': 223,\n",
              " '여': 224,\n",
              " '전': 225,\n",
              " '요즘': 226,\n",
              " '맘': 227,\n",
              " '전여친': 228,\n",
              " '떨어지다': 229,\n",
              " '답답하다': 230,\n",
              " '밥': 231,\n",
              " '가보다': 232,\n",
              " '하나': 233,\n",
              " '대': 234,\n",
              " '전화': 235,\n",
              " '남편': 236,\n",
              " '아침': 237,\n",
              " '궁금하다': 238,\n",
              " '필요하다': 239,\n",
              " '니': 240,\n",
              " '소개팅': 241,\n",
              " '시': 242,\n",
              " '겠다': 243,\n",
              " '어떻': 244,\n",
              " '핸드폰': 245,\n",
              " '2년': 246,\n",
              " '걱정': 247,\n",
              " '이런': 248,\n",
              " '후회': 249,\n",
              " '건지다': 250,\n",
              " '다른사람': 251,\n",
              " '짝': 252,\n",
              " '마시다': 253,\n",
              " '새롭다': 254,\n",
              " '스트레스': 255,\n",
              " '되어다': 256,\n",
              " '친': 257,\n",
              " '몇': 258,\n",
              " '이야기': 259,\n",
              " '설레다': 260,\n",
              " '날씨': 261,\n",
              " '노래': 262,\n",
              " '에나': 263,\n",
              " '가슴': 264,\n",
              " '보이다': 265,\n",
              " '떨리다': 266,\n",
              " '듯': 267,\n",
              " '가안': 268,\n",
              " '새': 269,\n",
              " '바꾸다': 270,\n",
              " '벌써': 271,\n",
              " '처음': 272,\n",
              " '상처': 273,\n",
              " '뭐라다': 274,\n",
              " '추천': 275,\n",
              " '붙잡다': 276,\n",
              " '이유': 277,\n",
              " '재밌다': 278,\n",
              " '편하다': 279,\n",
              " '늘다': 280,\n",
              " '짜증나다': 281,\n",
              " '이르다': 282,\n",
              " '사진': 283,\n",
              " '안나': 284,\n",
              " '알바': 285,\n",
              " '시작': 286,\n",
              " '잡다': 287,\n",
              " '매': 288,\n",
              " '아직': 289,\n",
              " '시키다': 290,\n",
              " '엄청': 291,\n",
              " '잘못': 292,\n",
              " '래': 293,\n",
              " '눈물': 294,\n",
              " '간': 295,\n",
              " '전남친': 296,\n",
              " '달이': 297,\n",
              " '의미': 298,\n",
              " '첫사랑': 299,\n",
              " '학교': 300,\n",
              " '비': 301,\n",
              " '법': 302,\n",
              " '안좋다': 303,\n",
              " '걸': 304,\n",
              " '맨날': 305,\n",
              " '구': 306,\n",
              " '비싸다': 307,\n",
              " '부모님': 308,\n",
              " '커피': 309,\n",
              " '만에': 310,\n",
              " '누구': 311,\n",
              " '물어보다': 312,\n",
              " '자고': 313,\n",
              " '슬프다': 314,\n",
              " '시험': 315,\n",
              " '당하다': 316,\n",
              " '들어오다': 317,\n",
              " '일이': 318,\n",
              " '운동': 319,\n",
              " '생일': 320,\n",
              " '도안': 321,\n",
              " '변하다': 322,\n",
              " 'ㅠㅠ': 323,\n",
              " '나쁘다': 324,\n",
              " '없이': 325,\n",
              " '챙기다': 326,\n",
              " '화': 327,\n",
              " '속': 328,\n",
              " '지치다': 329,\n",
              " '만들다': 330,\n",
              " '나이': 331,\n",
              " '포기': 332,\n",
              " '폭풍': 333,\n",
              " '돌아오다': 334,\n",
              " '주말': 335,\n",
              " '잊혀지다': 336,\n",
              " '걸리다': 337,\n",
              " '게임': 338,\n",
              " '니까': 339,\n",
              " '점점': 340,\n",
              " '이지': 341,\n",
              " '앞': 342,\n",
              " '가능하다': 343,\n",
              " '기': 344,\n",
              " '뭔': 345,\n",
              " '따다': 346,\n",
              " '차': 347,\n",
              " '사': 348,\n",
              " '찍다': 349,\n",
              " '안해': 350,\n",
              " '얼굴': 351,\n",
              " '크다': 352,\n",
              " '별로': 353,\n",
              " '기억': 354,\n",
              " '한지': 355,\n",
              " '지우다': 356,\n",
              " '첫': 357,\n",
              " '헤어지자': 358,\n",
              " '가족': 359,\n",
              " '가기': 360,\n",
              " '사이': 361,\n",
              " '키우다': 362,\n",
              " '살': 363,\n",
              " '에는': 364,\n",
              " '배우다': 365,\n",
              " '라고': 366,\n",
              " '지다': 367,\n",
              " '이해': 368,\n",
              " '갖다': 369,\n",
              " '프사': 370,\n",
              " '늦다': 371,\n",
              " '한잔': 372,\n",
              " '다니다': 373,\n",
              " '가능': 374,\n",
              " '드디어': 375,\n",
              " '척': 376,\n",
              " '부터': 377,\n",
              " '밤': 378,\n",
              " '잠': 379,\n",
              " '영화': 380,\n",
              " '화장': 381,\n",
              " '자기': 382,\n",
              " '톡': 383,\n",
              " '표현': 384,\n",
              " '가야': 385,\n",
              " '무': 386,\n",
              " '빨리': 387,\n",
              " '이라': 388,\n",
              " '부담스럽다': 389,\n",
              " '오래': 390,\n",
              " '기다': 391,\n",
              " '남': 392,\n",
              " '달라': 393,\n",
              " '인생': 394,\n",
              " '함': 395,\n",
              " '오랜': 396,\n",
              " '환승': 397,\n",
              " '5년': 398,\n",
              " 'ㅠ': 399,\n",
              " '휴': 400,\n",
              " '미련': 401,\n",
              " '썸녀': 402,\n",
              " '1': 403,\n",
              " '간다': 404,\n",
              " '개': 405,\n",
              " '치다': 406,\n",
              " '지내다': 407,\n",
              " '그만': 408,\n",
              " '문제': 409,\n",
              " '완전': 410,\n",
              " '일어나다': 411,\n",
              " '답': 412,\n",
              " '비다': 413,\n",
              " '듣다': 414,\n",
              " '얘기': 415,\n",
              " '힘': 416,\n",
              " '문자': 417,\n",
              " '쯤': 418,\n",
              " '이란': 419,\n",
              " '차단': 420,\n",
              " '폰': 421,\n",
              " '봄': 422,\n",
              " '그런': 423,\n",
              " '임': 424,\n",
              " '도와주다': 425,\n",
              " '심해': 426,\n",
              " '글': 427,\n",
              " '모든': 428,\n",
              " '끝내다': 429,\n",
              " '좋아지다': 430,\n",
              " '카페': 431,\n",
              " '잘해주다': 432,\n",
              " '조금': 433,\n",
              " '집착': 434,\n",
              " '착하다': 435,\n",
              " '보고': 436,\n",
              " '통보': 437,\n",
              " '망하다': 438,\n",
              " '관계': 439,\n",
              " '까먹다': 440,\n",
              " '오빠': 441,\n",
              " '상': 442,\n",
              " '믿다': 443,\n",
              " '월급': 444,\n",
              " '취직': 445,\n",
              " '덥다': 446,\n",
              " '전화하다': 447,\n",
              " '가면': 448,\n",
              " '만남': 449,\n",
              " '끊다': 450,\n",
              " '막히다': 451,\n",
              " '짧다': 452,\n",
              " '티': 453,\n",
              " '언': 454,\n",
              " '싫어하다': 455,\n",
              " '안경': 456,\n",
              " '편지': 457,\n",
              " '지나다': 458,\n",
              " '직장': 459,\n",
              " '3년': 460,\n",
              " '스킨십': 461,\n",
              " '딱': 462,\n",
              " '옷': 463,\n",
              " '졸리다': 464,\n",
              " '방학': 465,\n",
              " '신경': 466,\n",
              " '꼭': 467,\n",
              " '번호': 468,\n",
              " '뻔하다': 469,\n",
              " '입다': 470,\n",
              " '놈': 471,\n",
              " '보통': 472,\n",
              " '바쁘다': 473,\n",
              " '만해': 474,\n",
              " '자존감': 475,\n",
              " '정도': 476,\n",
              " '서다': 477,\n",
              " '뭔가': 478,\n",
              " '바람': 479,\n",
              " '이렇다': 480,\n",
              " '미안하다': 481,\n",
              " '한번': 482,\n",
              " '우울하다': 483,\n",
              " '6': 484,\n",
              " '려고': 485,\n",
              " '감': 486,\n",
              " '약': 487,\n",
              " '상황': 488,\n",
              " '거짓말': 489,\n",
              " '그리고': 490,\n",
              " '곳': 491,\n",
              " '어': 492,\n",
              " '데': 493,\n",
              " '따르다': 494,\n",
              " '잘살다': 495,\n",
              " '뒤': 496,\n",
              " '올리다': 497,\n",
              " '몸': 498,\n",
              " '발표': 499,\n",
              " '외로워': 500,\n",
              " '소개': 501,\n",
              " '빠지다': 502,\n",
              " '잠수': 503,\n",
              " '이라도': 504,\n",
              " '을해': 505,\n",
              " '동생': 506,\n",
              " '면접': 507,\n",
              " '극복': 508,\n",
              " '물': 509,\n",
              " '새벽': 510,\n",
              " '세상': 511,\n",
              " '호감': 512,\n",
              " '바보': 513,\n",
              " '읽다': 514,\n",
              " '그립다': 515,\n",
              " '두렵다': 516,\n",
              " '동거': 517,\n",
              " '서로': 518,\n",
              " '처럼': 519,\n",
              " '아깝다': 520,\n",
              " '담배': 521,\n",
              " '현실': 522,\n",
              " '위로': 523,\n",
              " '어리다': 524,\n",
              " '냄새': 525,\n",
              " '소리': 526,\n",
              " '노력': 527,\n",
              " '춥다': 528,\n",
              " '키': 529,\n",
              " '약속': 530,\n",
              " '귀엽다': 531,\n",
              " '피곤하다': 532,\n",
              " '똑같다': 533,\n",
              " '줄': 534,\n",
              " '찾아오다': 535,\n",
              " '웃다': 536,\n",
              " '답장': 537,\n",
              " '4년': 538,\n",
              " '아픔': 539,\n",
              " '받아들이다': 540,\n",
              " '마주치다': 541,\n",
              " '이상형': 542,\n",
              " '재미없다': 543,\n",
              " '운명': 544,\n",
              " '결혼식': 545,\n",
              " '어쩌지': 546,\n",
              " '오르다': 547,\n",
              " '길': 548,\n",
              " '다르다': 549,\n",
              " '집안일': 550,\n",
              " '부럽다': 551,\n",
              " '어색하다': 552,\n",
              " '깨지다': 553,\n",
              " '달다': 554,\n",
              " '책': 555,\n",
              " '커플': 556,\n",
              " '항상': 557,\n",
              " '배고프다': 558,\n",
              " '꾸다': 559,\n",
              " '아무리': 560,\n",
              " '저녁': 561,\n",
              " '자신': 562,\n",
              " '에도': 563,\n",
              " '이번': 564,\n",
              " '추억': 565,\n",
              " '진심': 566,\n",
              " '썸탈때': 567,\n",
              " '가지': 568,\n",
              " '결정': 569,\n",
              " '공': 570,\n",
              " '괜히': 571,\n",
              " '군대': 572,\n",
              " '택시': 573,\n",
              " '습관': 574,\n",
              " '무너지다': 575,\n",
              " '못자다': 576,\n",
              " '맛있다': 577,\n",
              " '고해': 578,\n",
              " '꿈꾸다': 579,\n",
              " '데리다': 580,\n",
              " '대로': 581,\n",
              " '느끼다': 582,\n",
              " '맞추다': 583,\n",
              " '냐': 584,\n",
              " '없어지다': 585,\n",
              " '원래': 586,\n",
              " '터지다': 587,\n",
              " '스럽다': 588,\n",
              " '오는': 589,\n",
              " '인형': 590,\n",
              " '선배': 591,\n",
              " '년': 592,\n",
              " '연예인': 593,\n",
              " '아빠': 594,\n",
              " '그만하다': 595,\n",
              " '인연': 596,\n",
              " '4': 597,\n",
              " '이라는': 598,\n",
              " '또다시': 599,\n",
              " '착각': 600,\n",
              " '조언': 601,\n",
              " '자주': 602,\n",
              " '행동': 603,\n",
              " '장거리': 604,\n",
              " '연인': 605,\n",
              " '남사': 606,\n",
              " '가끔': 607,\n",
              " '싸다': 608,\n",
              " '끼다': 609,\n",
              " '걔': 610,\n",
              " '관리': 611,\n",
              " '자꾸나': 612,\n",
              " '이드': 613,\n",
              " '그만두다': 614,\n",
              " '태어나다': 615,\n",
              " '길다': 616,\n",
              " '장난': 617,\n",
              " '이래': 618,\n",
              " '뿐': 619,\n",
              " '잘알다': 620,\n",
              " '쓰레기': 621,\n",
              " '종교': 622,\n",
              " '성격': 623,\n",
              " '가왜': 624,\n",
              " '제일': 625,\n",
              " '욕': 626,\n",
              " '무안': 627,\n",
              " '다가오다': 628,\n",
              " '다리': 629,\n",
              " '뜨다': 630,\n",
              " '지나가다': 631,\n",
              " '추다': 632,\n",
              " '열심히': 633,\n",
              " '점': 634,\n",
              " '울다': 635,\n",
              " '안녕': 636,\n",
              " '함께': 637,\n",
              " '번': 638,\n",
              " '우산': 639,\n",
              " '식다': 640,\n",
              " '클럽': 641,\n",
              " '친해지다': 642,\n",
              " '헷갈리다': 643,\n",
              " '흐르다': 644,\n",
              " '화가': 645,\n",
              " '견디다': 646,\n",
              " '만난': 647,\n",
              " '전여자친구': 648,\n",
              " '일주일': 649,\n",
              " '확실하다': 650,\n",
              " '여행가': 651,\n",
              " '불편하다': 652,\n",
              " '살찌다': 653,\n",
              " '생활': 654,\n",
              " '도해': 655,\n",
              " '얼마나': 656,\n",
              " '속이다': 657,\n",
              " '고맙다': 658,\n",
              " '예민하다': 659,\n",
              " '에서만': 660,\n",
              " '두다': 661,\n",
              " '씹다': 662,\n",
              " '날다': 663,\n",
              " '미우다': 664,\n",
              " '일찍': 665,\n",
              " '종일': 666,\n",
              " '바': 667,\n",
              " '배': 668,\n",
              " '노래방': 669,\n",
              " '라': 670,\n",
              " '상사': 671,\n",
              " '성공하다': 672,\n",
              " '이상': 673,\n",
              " '빌리다': 674,\n",
              " '소': 675,\n",
              " '씨': 676,\n",
              " '라면': 677,\n",
              " '막말': 678,\n",
              " '최악': 679,\n",
              " '이제일': 680,\n",
              " '만하': 681,\n",
              " '깨다': 682,\n",
              " '문': 683,\n",
              " '차갑다': 684,\n",
              " '미세먼지': 685,\n",
              " '하늘': 686,\n",
              " '심심하다': 687,\n",
              " '끊기다': 688,\n",
              " '돌리다': 689,\n",
              " '상담': 690,\n",
              " '타': 691,\n",
              " '기간': 692,\n",
              " '출근': 693,\n",
              " '찾아가다': 694,\n",
              " '찾다': 695,\n",
              " '크리스마스': 696,\n",
              " '눈치': 697,\n",
              " '집들이': 698,\n",
              " '5': 699,\n",
              " '6년': 700,\n",
              " '이혼': 701,\n",
              " '완전하다': 702,\n",
              " '문득': 703,\n",
              " '사랑받다': 704,\n",
              " '카드': 705,\n",
              " '매일': 706,\n",
              " '감기': 707,\n",
              " '어디가': 708,\n",
              " '된거': 709,\n",
              " '취미': 710,\n",
              " '재미있다': 711,\n",
              " '들어주다': 712,\n",
              " '공무원': 713,\n",
              " '중요하다': 714,\n",
              " '교회': 715,\n",
              " '엔': 716,\n",
              " '기대하다': 717,\n",
              " '얼다': 718,\n",
              " '바뀌다': 719,\n",
              " '쉽다': 720,\n",
              " '여기': 721,\n",
              " '보이': 722,\n",
              " '정신': 723,\n",
              " '졸업': 724,\n",
              " '인정받다': 725,\n",
              " '들이다': 726,\n",
              " '축구': 727,\n",
              " '장': 728,\n",
              " '진급': 729,\n",
              " '해봤다': 730,\n",
              " '회식': 731,\n",
              " '여러': 732,\n",
              " '느껴지다': 733,\n",
              " '가사': 734,\n",
              " '이기다': 735,\n",
              " '불다': 736,\n",
              " '원': 737,\n",
              " '쌓이다': 738,\n",
              " '수': 739,\n",
              " '쓰이다': 740,\n",
              " '도시락': 741,\n",
              " '버스': 742,\n",
              " '먼지': 743,\n",
              " '멋지다': 744,\n",
              " '는걸': 745,\n",
              " '영': 746,\n",
              " '다가가다': 747,\n",
              " '에만': 748,\n",
              " '차별': 749,\n",
              " '인사': 750,\n",
              " '선생님': 751,\n",
              " '세': 752,\n",
              " '고치다': 753,\n",
              " '집중': 754,\n",
              " '보': 755,\n",
              " '연': 756,\n",
              " '용돈': 757,\n",
              " '괴롭다': 758,\n",
              " '취업': 759,\n",
              " '퇴근': 760,\n",
              " '학원': 761,\n",
              " '씩': 762,\n",
              " '하루하루': 763,\n",
              " '7년': 764,\n",
              " '8년': 765,\n",
              " '뎌': 766,\n",
              " '모습': 767,\n",
              " '죠': 768,\n",
              " '권태기': 769,\n",
              " '인걸': 770,\n",
              " '차이다': 771,\n",
              " '풀다': 772,\n",
              " '쇼핑': 773,\n",
              " '무시': 774,\n",
              " '개강': 775,\n",
              " '최고': 776,\n",
              " '과거': 777,\n",
              " '교양': 778,\n",
              " '수업': 779,\n",
              " '그렇게': 780,\n",
              " '그리다': 781,\n",
              " '기념일': 782,\n",
              " '울적하다': 783,\n",
              " '걷다': 784,\n",
              " '길이': 785,\n",
              " '물다': 786,\n",
              " '잘생기다': 787,\n",
              " '나좀': 788,\n",
              " '무오': 789,\n",
              " '어디서': 790,\n",
              " '보여주다': 791,\n",
              " '가제': 792,\n",
              " '백': 793,\n",
              " '벌다': 794,\n",
              " '누가': 795,\n",
              " '다가': 796,\n",
              " '건': 797,\n",
              " '접다': 798,\n",
              " '청소': 799,\n",
              " '대학': 800,\n",
              " '드라마': 801,\n",
              " '후련하다': 802,\n",
              " '다녀오다': 803,\n",
              " '맥주': 804,\n",
              " '목': 805,\n",
              " '멀어지다': 806,\n",
              " '라도': 807,\n",
              " '가져오다': 808,\n",
              " '일상': 809,\n",
              " '시계': 810,\n",
              " '보기': 811,\n",
              " '입': 812,\n",
              " 'ㅜㅜ': 813,\n",
              " '휴대폰': 814,\n",
              " '셀프': 815,\n",
              " '웨딩': 816,\n",
              " '얼마': 817,\n",
              " '시어머니': 818,\n",
              " '질투': 819,\n",
              " '코': 820,\n",
              " '말고': 821,\n",
              " '차이': 822,\n",
              " '돌아가다': 823,\n",
              " '화나다': 824,\n",
              " '파도': 825,\n",
              " '순간': 826,\n",
              " '이쁘다': 827,\n",
              " '파혼': 828,\n",
              " '점심시간': 829,\n",
              " '조': 830,\n",
              " '헬스장': 831,\n",
              " '명': 832,\n",
              " '라는': 833,\n",
              " '친하다': 834,\n",
              " '싫어지다': 835,\n",
              " '기적': 836,\n",
              " '제발': 837,\n",
              " '경우': 838,\n",
              " '매달리다': 839,\n",
              " '누군가': 840,\n",
              " '상대': 841,\n",
              " '영원하다': 842,\n",
              " '어장': 843,\n",
              " '앞두다': 844,\n",
              " '얼': 845,\n",
              " '마안': 846,\n",
              " '청첩장': 847,\n",
              " '켜다': 848,\n",
              " '강아지': 849,\n",
              " '이라니': 850,\n",
              " '옴': 851,\n",
              " '일도': 852,\n",
              " '거지': 853,\n",
              " '고프다': 854,\n",
              " '다이어트': 855,\n",
              " '짱': 856,\n",
              " '느리다': 857,\n",
              " '지겹다': 858,\n",
              " '한숨': 859,\n",
              " '고집': 860,\n",
              " '계': 861,\n",
              " '작': 862,\n",
              " '전공': 863,\n",
              " '타고': 864,\n",
              " '놓치다': 865,\n",
              " '멀다': 866,\n",
              " '꽃': 867,\n",
              " '꽃다발': 868,\n",
              " '소심하다': 869,\n",
              " '먹기': 870,\n",
              " '웃기다': 871,\n",
              " '든': 872,\n",
              " '너무하다': 873,\n",
              " '만의': 874,\n",
              " '동안': 875,\n",
              " '휴가': 876,\n",
              " '동': 877,\n",
              " '사업': 878,\n",
              " '력': 879,\n",
              " '기르다': 880,\n",
              " '사라지다': 881,\n",
              " '아이돌': 882,\n",
              " '스타일': 883,\n",
              " '내일': 884,\n",
              " '부족하다': 885,\n",
              " '밖에': 886,\n",
              " '즐기다': 887,\n",
              " '대다': 888,\n",
              " '넌': 889,\n",
              " '부르다': 890,\n",
              " '문신': 891,\n",
              " '역시': 892,\n",
              " '복': 893,\n",
              " '어울리다': 894,\n",
              " '대리': 895,\n",
              " '도서관': 896,\n",
              " '싸움': 897,\n",
              " '성': 898,\n",
              " '볼': 899,\n",
              " '허리': 900,\n",
              " '버티다': 901,\n",
              " '짓': 902,\n",
              " '말투': 903,\n",
              " '조금씩': 904,\n",
              " '선택': 905,\n",
              " '자르다': 906,\n",
              " '게살': 907,\n",
              " '모': 908,\n",
              " '신': 909,\n",
              " '쳐다보다': 910,\n",
              " '비밀': 911,\n",
              " '불안하다': 912,\n",
              " '밖': 913,\n",
              " '올해': 914,\n",
              " '이불': 915,\n",
              " '지키다': 916,\n",
              " '운': 917,\n",
              " '삼겹살': 918,\n",
              " '적다': 919,\n",
              " '속상하다': 920,\n",
              " '손': 921,\n",
              " '위험하다': 922,\n",
              " '고르다': 923,\n",
              " '테': 924,\n",
              " '비슷하다': 925,\n",
              " '언니': 926,\n",
              " '작다': 927,\n",
              " '피부': 928,\n",
              " '오': 929,\n",
              " '분': 930,\n",
              " '화장실': 931,\n",
              " '의심': 932,\n",
              " '인턴': 933,\n",
              " '인기': 934,\n",
              " '떠나가다': 935,\n",
              " '확신': 936,\n",
              " '이별이야기': 937,\n",
              " 'ㅎㅎ': 938,\n",
              " '한다는': 939,\n",
              " '어찌': 940,\n",
              " '어느덧다': 941,\n",
              " '어느': 942,\n",
              " '확인': 943,\n",
              " '페북': 944,\n",
              " '심하다': 945,\n",
              " '빼다': 946,\n",
              " '막': 947,\n",
              " '업무': 948,\n",
              " '닮다': 949,\n",
              " '주가': 950,\n",
              " '빠르다': 951,\n",
              " '에서나': 952,\n",
              " '때리다': 953,\n",
              " '부담': 954,\n",
              " '과일': 955,\n",
              " '먹고다': 956,\n",
              " '그래도': 957,\n",
              " '더럽다': 958,\n",
              " '안보': 959,\n",
              " '사주다': 960,\n",
              " '몰래': 961,\n",
              " '나사': 962,\n",
              " '대해': 963,\n",
              " '애기': 964,\n",
              " '바라다': 965,\n",
              " '솔직하다': 966,\n",
              " '왜안': 967,\n",
              " '능력': 968,\n",
              " '이름': 969,\n",
              " '사람과': 970,\n",
              " '랑은': 971,\n",
              " '들어가다': 972,\n",
              " '땡기다': 973,\n",
              " '빨': 974,\n",
              " '발목': 975,\n",
              " '성적': 976,\n",
              " '단둘': 977,\n",
              " '여드름': 978,\n",
              " '대출': 979,\n",
              " '혼나다': 980,\n",
              " '달라지다': 981,\n",
              " '자리': 982,\n",
              " '모으다': 983,\n",
              " '잡히다': 984,\n",
              " '해외여행': 985,\n",
              " '제주도': 986,\n",
              " '야근': 987,\n",
              " '깎다': 988,\n",
              " '끌다': 989,\n",
              " '죽': 990,\n",
              " '명절': 991,\n",
              " '에서도': 992,\n",
              " '입지': 993,\n",
              " '발렌타인데이': 994,\n",
              " '방': 995,\n",
              " '베터리': 996,\n",
              " '겨우': 997,\n",
              " '거리': 998,\n",
              " '분위기': 999,\n",
              " '빼빼로': 1000,\n",
              " ...}"
            ]
          },
          "metadata": {},
          "execution_count": 15
        }
      ]
    },
    {
      "cell_type": "code",
      "source": [
        "threshold = 3\n",
        "total_cnt = len(tokenizer.word_index) # 단어의 수\n",
        "rare_cnt = 0 # 등장 빈도수가 threshold보다 작은 단어의 개수를 카운트\n",
        "total_freq = 0 # 훈련 데이터의 전체 단어 빈도수 총 합\n",
        "rare_freq = 0 # 등장 빈도수가 threshold보다 작은 단어의 등장 빈도수의 총 합\n",
        "\n",
        "# 단어와 빈도수의 쌍(pair)을 key와 value로 받는다.\n",
        "for key, value in tokenizer.word_counts.items():\n",
        "    total_freq = total_freq + value\n",
        "\n",
        "    # 단어의 등장 빈도수가 threshold보다 작으면\n",
        "    if(value < threshold):\n",
        "        rare_cnt = rare_cnt + 1\n",
        "        rare_freq = rare_freq + value\n",
        "\n",
        "print('단어 집합(vocabulary)의 크기 :',total_cnt)\n",
        "print('등장 빈도가 %s번 이하인 희귀 단어의 수: %s'%(threshold - 1, rare_cnt))\n",
        "print(\"단어 집합에서 희귀 단어의 비율:\", (rare_cnt / total_cnt)*100)\n",
        "print(\"전체 등장 빈도에서 희귀 단어 등장 빈도 비율:\", (rare_freq / total_freq)*100)"
      ],
      "metadata": {
        "colab": {
          "base_uri": "https://localhost:8080/"
        },
        "id": "eljPJQ75FEL5",
        "outputId": "460838fd-157a-49d6-ac9a-6cf855a54866"
      },
      "execution_count": 16,
      "outputs": [
        {
          "output_type": "stream",
          "name": "stdout",
          "text": [
            "단어 집합(vocabulary)의 크기 : 5385\n",
            "등장 빈도가 2번 이하인 희귀 단어의 수: 3271\n",
            "단어 집합에서 희귀 단어의 비율: 60.74280408542248\n",
            "전체 등장 빈도에서 희귀 단어 등장 빈도 비율: 9.14972863679898\n"
          ]
        }
      ]
    },
    {
      "cell_type": "code",
      "source": [
        "vocab_size = total_cnt - rare_cnt + 1\n",
        "print('단어 집합의 크기 :',vocab_size)"
      ],
      "metadata": {
        "colab": {
          "base_uri": "https://localhost:8080/"
        },
        "id": "JkR0rB3gDUEh",
        "outputId": "290e8b27-cdde-4ac5-9fe2-7de6e23d9934"
      },
      "execution_count": 17,
      "outputs": [
        {
          "output_type": "stream",
          "name": "stdout",
          "text": [
            "단어 집합의 크기 : 2115\n"
          ]
        }
      ]
    },
    {
      "cell_type": "code",
      "source": [
        "tokenizer = Tokenizer(vocab_size) \n",
        "tokenizer.fit_on_texts(X_train)\n",
        "X_train = tokenizer.texts_to_sequences(X_train)\n",
        "\n",
        "print(X_train[:3])"
      ],
      "metadata": {
        "colab": {
          "base_uri": "https://localhost:8080/"
        },
        "id": "10d9WCG1F_NE",
        "outputId": "2977b9c1-7a87-4ada-c75d-b292783eafcb"
      },
      "execution_count": 18,
      "outputs": [
        {
          "output_type": "stream",
          "name": "stdout",
          "text": [
            "[[], [403, 300, 229], [175, 1378, 1036]]\n"
          ]
        }
      ]
    },
    {
      "cell_type": "code",
      "source": [
        "data['Q'].head(5)"
      ],
      "metadata": {
        "colab": {
          "base_uri": "https://localhost:8080/"
        },
        "id": "fvyAqc4yGQ8a",
        "outputId": "72aeb6ed-f29e-4b68-c8bb-4f5c4cbce7a6"
      },
      "execution_count": 19,
      "outputs": [
        {
          "output_type": "execute_result",
          "data": {
            "text/plain": [
              "0            12시땡\n",
              "1       1지망학교떨어졌어\n",
              "2      3박4일놀러가고싶다\n",
              "3    3박4일정도놀러가고싶다\n",
              "4             심하네\n",
              "Name: Q, dtype: object"
            ]
          },
          "metadata": {},
          "execution_count": 19
        }
      ]
    },
    {
      "cell_type": "code",
      "source": [
        "y_train = np.array(data['label'])\n",
        "y_test = np.array(data['label'])"
      ],
      "metadata": {
        "id": "WG_bVDABH0qe"
      },
      "execution_count": 20,
      "outputs": []
    },
    {
      "cell_type": "code",
      "source": [
        "drop_train = [index for index, sentence in enumerate(X_train) if len(sentence) < 1]"
      ],
      "metadata": {
        "id": "6mqNUsySH731"
      },
      "execution_count": 21,
      "outputs": []
    },
    {
      "cell_type": "code",
      "source": [
        "X_train = np.delete(X_train, drop_train, axis=0)\n",
        "y_train = np.delete(y_train, drop_train, axis=0)\n",
        "print(len(X_train))\n",
        "print(len(y_train))"
      ],
      "metadata": {
        "colab": {
          "base_uri": "https://localhost:8080/"
        },
        "id": "2FD_6DFoIAX5",
        "outputId": "4a796578-2463-4aaf-a1c0-e5f9fb28f257"
      },
      "execution_count": 22,
      "outputs": [
        {
          "output_type": "stream",
          "name": "stdout",
          "text": [
            "11661\n",
            "11661\n"
          ]
        },
        {
          "output_type": "stream",
          "name": "stderr",
          "text": [
            "/usr/local/lib/python3.7/dist-packages/numpy/lib/function_base.py:4454: VisibleDeprecationWarning: Creating an ndarray from ragged nested sequences (which is a list-or-tuple of lists-or-tuples-or ndarrays with different lengths or shapes) is deprecated. If you meant to do this, you must specify 'dtype=object' when creating the ndarray.\n",
            "  arr = asarray(arr)\n"
          ]
        }
      ]
    },
    {
      "cell_type": "code",
      "source": [
        "print('문장 최대 길이 :',max(len(review) for review in X_train))\n",
        "print('문장 평균 길이 :',sum(map(len, X_train))/len(X_train))\n",
        "plt.hist([len(review) for review in X_train], bins=50)\n",
        "plt.xlabel('length of samples')\n",
        "plt.ylabel('number of samples')\n",
        "plt.show()"
      ],
      "metadata": {
        "colab": {
          "base_uri": "https://localhost:8080/",
          "height": 315
        },
        "id": "4lTK9TknIDVB",
        "outputId": "841c08f7-aa84-4deb-ecca-a3698dc41d01"
      },
      "execution_count": 23,
      "outputs": [
        {
          "output_type": "stream",
          "name": "stdout",
          "text": [
            "문장 최대 길이 : 17\n",
            "문장 평균 길이 : 3.6605779950261557\n"
          ]
        },
        {
          "output_type": "display_data",
          "data": {
            "text/plain": [
              "<Figure size 432x288 with 1 Axes>"
            ],
            "image/png": "[encoded data removed]"
          },
          "metadata": {
            "needs_background": "light"
          }
        }
      ]
    },
    {
      "cell_type": "code",
      "source": [
        "def below_threshold_len(max_len, nested_list):\n",
        "  count = 0\n",
        "  for sentence in nested_list:\n",
        "    if(len(sentence) <= max_len):\n",
        "        count = count + 1\n",
        "  print('전체 샘플 중 길이가 %s 이하인 샘플의 비율: %s'%(max_len, (count / len(nested_list))*100))"
      ],
      "metadata": {
        "id": "ENzfUXoTIMhH"
      },
      "execution_count": 24,
      "outputs": []
    },
    {
      "cell_type": "code",
      "source": [
        "max_len = 8\n",
        "below_threshold_len(max_len, X_train)"
      ],
      "metadata": {
        "colab": {
          "base_uri": "https://localhost:8080/"
        },
        "id": "b3pkyUkUIP50",
        "outputId": "a72c78ba-7d6b-4c91-b104-6c2434399fca"
      },
      "execution_count": 25,
      "outputs": [
        {
          "output_type": "stream",
          "name": "stdout",
          "text": [
            "전체 샘플 중 길이가 8 이하인 샘플의 비율: 97.90755509819054\n"
          ]
        }
      ]
    },
    {
      "cell_type": "code",
      "source": [
        "X_train = pad_sequences(X_train, maxlen=max_len)"
      ],
      "metadata": {
        "id": "Ssjsj_52IhyT"
      },
      "execution_count": 26,
      "outputs": []
    },
    {
      "cell_type": "code",
      "source": [
        "from tensorflow.keras.layers import Embedding, Dense, LSTM\n",
        "from tensorflow.keras.models import Sequential\n",
        "from tensorflow.keras.models import load_model\n",
        "from tensorflow.keras.callbacks import EarlyStopping, ModelCheckpoint\n",
        "\n",
        "embedding_dim = 100\n",
        "hidden_units = 256\n",
        "\n",
        "model = Sequential()\n",
        "model.add(Embedding(vocab_size, embedding_dim))\n",
        "model.add(LSTM(hidden_units))\n",
        "model.add(Dense(1, activation='sigmoid'))\n",
        "\n",
        "es = EarlyStopping(monitor='val_loss', mode='min', verbose=1, patience=10)\n",
        "mc = ModelCheckpoint('best_model.h5', monitor='val_acc', mode='max', verbose=1, save_best_only=True)\n",
        "\n",
        "model.compile(optimizer='rmsprop', loss='binary_crossentropy', metrics=['acc'])\n",
        "history = model.fit(X_train, y_train, epochs=50, callbacks=[es, mc], batch_size=64, validation_split=0.2)"
      ],
      "metadata": {
        "colab": {
          "base_uri": "https://localhost:8080/"
        },
        "id": "Tehm5tNAIVWm",
        "outputId": "1b22deb7-e00a-4022-8c6e-8edf90c3185f"
      },
      "execution_count": 27,
      "outputs": [
        {
          "output_type": "stream",
          "name": "stdout",
          "text": [
            "Epoch 1/50\n",
            "145/146 [============================>.] - ETA: 0s - loss: 0.5118 - acc: 0.7455\n",
            "Epoch 1: val_acc improved from -inf to 0.66781, saving model to best_model.h5\n",
            "146/146 [==============================] - 10s 12ms/step - loss: 0.5116 - acc: 0.7455 - val_loss: 0.6289 - val_acc: 0.6678\n",
            "Epoch 2/50\n",
            "139/146 [===========================>..] - ETA: 0s - loss: 0.3454 - acc: 0.8532\n",
            "Epoch 2: val_acc did not improve from 0.66781\n",
            "146/146 [==============================] - 1s 6ms/step - loss: 0.3478 - acc: 0.8522 - val_loss: 0.7218 - val_acc: 0.6408\n",
            "Epoch 3/50\n",
            "140/146 [===========================>..] - ETA: 0s - loss: 0.3109 - acc: 0.8701\n",
            "Epoch 3: val_acc did not improve from 0.66781\n",
            "146/146 [==============================] - 1s 6ms/step - loss: 0.3105 - acc: 0.8700 - val_loss: 0.8011 - val_acc: 0.6429\n",
            "Epoch 4/50\n",
            "140/146 [===========================>..] - ETA: 0s - loss: 0.2914 - acc: 0.8754\n",
            "Epoch 4: val_acc did not improve from 0.66781\n",
            "146/146 [==============================] - 1s 6ms/step - loss: 0.2916 - acc: 0.8758 - val_loss: 0.7503 - val_acc: 0.6665\n",
            "Epoch 5/50\n",
            "139/146 [===========================>..] - ETA: 0s - loss: 0.2771 - acc: 0.8810\n",
            "Epoch 5: val_acc improved from 0.66781 to 0.76511, saving model to best_model.h5\n",
            "146/146 [==============================] - 1s 6ms/step - loss: 0.2769 - acc: 0.8810 - val_loss: 0.5638 - val_acc: 0.7651\n",
            "Epoch 6/50\n",
            "145/146 [============================>.] - ETA: 0s - loss: 0.2673 - acc: 0.8848\n",
            "Epoch 6: val_acc did not improve from 0.76511\n",
            "146/146 [==============================] - 1s 6ms/step - loss: 0.2669 - acc: 0.8851 - val_loss: 0.6418 - val_acc: 0.7282\n",
            "Epoch 7/50\n",
            "143/146 [============================>.] - ETA: 0s - loss: 0.2571 - acc: 0.8896\n",
            "Epoch 7: val_acc did not improve from 0.76511\n",
            "146/146 [==============================] - 1s 8ms/step - loss: 0.2575 - acc: 0.8896 - val_loss: 0.7743 - val_acc: 0.6811\n",
            "Epoch 8/50\n",
            "146/146 [==============================] - ETA: 0s - loss: 0.2486 - acc: 0.8959\n",
            "Epoch 8: val_acc did not improve from 0.76511\n",
            "146/146 [==============================] - 1s 9ms/step - loss: 0.2486 - acc: 0.8959 - val_loss: 0.7184 - val_acc: 0.6880\n",
            "Epoch 9/50\n",
            "141/146 [===========================>..] - ETA: 0s - loss: 0.2404 - acc: 0.8997\n",
            "Epoch 9: val_acc did not improve from 0.76511\n",
            "146/146 [==============================] - 1s 6ms/step - loss: 0.2404 - acc: 0.8999 - val_loss: 0.8913 - val_acc: 0.6524\n",
            "Epoch 10/50\n",
            "145/146 [============================>.] - ETA: 0s - loss: 0.2333 - acc: 0.9032\n",
            "Epoch 10: val_acc did not improve from 0.76511\n",
            "146/146 [==============================] - 1s 7ms/step - loss: 0.2325 - acc: 0.9036 - val_loss: 0.7593 - val_acc: 0.7171\n",
            "Epoch 11/50\n",
            "144/146 [============================>.] - ETA: 0s - loss: 0.2242 - acc: 0.9068\n",
            "Epoch 11: val_acc did not improve from 0.76511\n",
            "146/146 [==============================] - 1s 7ms/step - loss: 0.2241 - acc: 0.9069 - val_loss: 1.0304 - val_acc: 0.6494\n",
            "Epoch 12/50\n",
            "141/146 [===========================>..] - ETA: 0s - loss: 0.2135 - acc: 0.9139\n",
            "Epoch 12: val_acc did not improve from 0.76511\n",
            "146/146 [==============================] - 1s 7ms/step - loss: 0.2149 - acc: 0.9128 - val_loss: 0.9716 - val_acc: 0.6412\n",
            "Epoch 13/50\n",
            "137/146 [===========================>..] - ETA: 0s - loss: 0.2063 - acc: 0.9145\n",
            "Epoch 13: val_acc did not improve from 0.76511\n",
            "146/146 [==============================] - 1s 6ms/step - loss: 0.2052 - acc: 0.9151 - val_loss: 0.8214 - val_acc: 0.6965\n",
            "Epoch 14/50\n",
            "146/146 [==============================] - ETA: 0s - loss: 0.1953 - acc: 0.9195\n",
            "Epoch 14: val_acc did not improve from 0.76511\n",
            "146/146 [==============================] - 1s 6ms/step - loss: 0.1953 - acc: 0.9195 - val_loss: 1.0715 - val_acc: 0.6571\n",
            "Epoch 15/50\n",
            "137/146 [===========================>..] - ETA: 0s - loss: 0.1853 - acc: 0.9247\n",
            "Epoch 15: val_acc did not improve from 0.76511\n",
            "146/146 [==============================] - 1s 6ms/step - loss: 0.1878 - acc: 0.9232 - val_loss: 0.8322 - val_acc: 0.6927\n",
            "Epoch 15: early stopping\n"
          ]
        }
      ]
    },
    {
      "cell_type": "code",
      "source": [
        "loaded_model = load_model('best_model.h5')"
      ],
      "metadata": {
        "id": "-AlSkzDeKZy2"
      },
      "execution_count": 28,
      "outputs": []
    },
    {
      "cell_type": "code",
      "source": [
        "def sp(new_sentence):\n",
        "  new_sentence = re.sub(r'[^0-9ㄱ-ㅎㅏ-ㅣ가-힣 ]','', new_sentence)\n",
        "  new_sentence = okt.morphs(new_sentence, stem=True) # 토큰화\n",
        "  new_sentence = [word for word in new_sentence if not word in stopwords] # 불용어 제거\n",
        "  encoded = tokenizer.texts_to_sequences([new_sentence]) # 정수 인코딩\n",
        "  pad_new = pad_sequences(encoded, maxlen = max_len) # 패딩\n",
        "  score = float(loaded_model.predict(pad_new)) # 예측\n",
        "  if(score > 0.5):\n",
        "    print(\"{:.2f}% 확률로 부정 문장입니다.\\n\".format(score * 100))\n",
        "  else:\n",
        "    print(\"{:.2f}% 확률로 긍정 문장입니다.\\n\".format((1 - score) * 100))"
      ],
      "metadata": {
        "id": "HDJAMnPnJZIO"
      },
      "execution_count": 29,
      "outputs": []
    },
    {
      "cell_type": "code",
      "source": [
        "sp('아 노잼이네')"
      ],
      "metadata": {
        "colab": {
          "base_uri": "https://localhost:8080/"
        },
        "id": "zVs932foKRUx",
        "outputId": "b919e5d4-e0ec-48ed-a2b2-8b240dd67936"
      },
      "execution_count": 30,
      "outputs": [
        {
          "output_type": "stream",
          "name": "stdout",
          "text": [
            "86.70% 확률로 부정 문장입니다.\n",
            "\n"
          ]
        }
      ]
    },
    {
      "cell_type": "code",
      "source": [
        "sp('이거 너무좋은데 ')"
      ],
      "metadata": {
        "colab": {
          "base_uri": "https://localhost:8080/"
        },
        "id": "0r8CeDllKtqI",
        "outputId": "a1c04b98-2316-41d9-9599-ed0efaab803c"
      },
      "execution_count": 31,
      "outputs": [
        {
          "output_type": "stream",
          "name": "stdout",
          "text": [
            "90.60% 확률로 긍정 문장입니다.\n",
            "\n"
          ]
        }
      ]
    },
    {
      "cell_type": "code",
      "source": [
        "sp(\"여자친구가 좋은데 믿음이 안 가\")"
      ],
      "metadata": {
        "colab": {
          "base_uri": "https://localhost:8080/"
        },
        "id": "ytRRTKn6LGrw",
        "outputId": "4bf1804d-bf70-463b-a874-04fa503a0ac9"
      },
      "execution_count": 32,
      "outputs": [
        {
          "output_type": "stream",
          "name": "stdout",
          "text": [
            "93.53% 확률로 긍정 문장입니다.\n",
            "\n"
          ]
        }
      ]
    },
    {
      "cell_type": "code",
      "source": [
        "sp('너가 사람이냐')"
      ],
      "metadata": {
        "colab": {
          "base_uri": "https://localhost:8080/"
        },
        "id": "5Gvo2T-ELPvp",
        "outputId": "f680bffb-8038-4791-fc9c-33bf7c79db88"
      },
      "execution_count": 33,
      "outputs": [
        {
          "output_type": "stream",
          "name": "stdout",
          "text": [
            "68.57% 확률로 긍정 문장입니다.\n",
            "\n"
          ]
        }
      ]
    },
    {
      "cell_type": "code",
      "source": [
        "sp('사랑해')"
      ],
      "metadata": {
        "colab": {
          "base_uri": "https://localhost:8080/"
        },
        "id": "eQZhvWrwLZ4f",
        "outputId": "c4c7790d-255b-4b83-851c-70af6dd1bbf7"
      },
      "execution_count": 34,
      "outputs": [
        {
          "output_type": "stream",
          "name": "stdout",
          "text": [
            "97.53% 확률로 부정 문장입니다.\n",
            "\n"
          ]
        }
      ]
    }
  ]
}