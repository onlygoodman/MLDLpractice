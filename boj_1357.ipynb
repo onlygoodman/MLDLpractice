{
  "nbformat": 4,
  "nbformat_minor": 0,
  "metadata": {
    "colab": {
      "provenance": [],
      "authorship_tag": "ABX9TyPJwd4I9Oax2joOrGdvIEVI",
      "include_colab_link": true
    },
    "kernelspec": {
      "name": "python3",
      "display_name": "Python 3"
    },
    "language_info": {
      "name": "python"
    }
  },
  "cells": [
    {
      "cell_type": "markdown",
      "metadata": {
        "id": "view-in-github",
        "colab_type": "text"
      },
      "source": [
        "<a href=\"https://colab.research.google.com/github/onlygoodman/Python_practice/blob/master/boj_1357.ipynb\" target=\"_parent\"><img src=\"https://colab.research.google.com/assets/colab-badge.svg\" alt=\"Open In Colab\"/></a>"
      ]
    },
    {
      "cell_type": "code",
      "execution_count": null,
      "metadata": {
        "id": "De2hECjajPN2"
      },
      "outputs": [],
      "source": [
        "x, y = map(int, input().split())\n",
        "\n",
        "nlist = [int(\"\".join(reversed(str(x)))), int(\"\".join(reversed(str(y))))]\n",
        "print(int(\"\".join(reversed(str(sum(nlist))))))\n"
      ]
    }
  ]
}