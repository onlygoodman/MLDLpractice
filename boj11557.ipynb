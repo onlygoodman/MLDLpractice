{
  "nbformat": 4,
  "nbformat_minor": 0,
  "metadata": {
    "colab": {
      "name": "boj11557.ipynb",
      "provenance": [],
      "authorship_tag": "ABX9TyOe0DuTuDYlJmqjf8EUTTqY",
      "include_colab_link": true
    },
    "kernelspec": {
      "name": "python3",
      "display_name": "Python 3"
    },
    "language_info": {
      "name": "python"
    }
  },
  "cells": [
    {
      "cell_type": "markdown",
      "metadata": {
        "id": "view-in-github",
        "colab_type": "text"
      },
      "source": [
        "<a href=\"https://colab.research.google.com/github/onlygoodman/MLDLpractice/blob/master/boj11557.ipynb\" target=\"_parent\"><img src=\"https://colab.research.google.com/assets/colab-badge.svg\" alt=\"Open In Colab\"/></a>"
      ]
    },
    {
      "cell_type": "code",
      "execution_count": 3,
      "metadata": {
        "colab": {
          "base_uri": "https://localhost:8080/"
        },
        "id": "o2lPhohpHlqn",
        "outputId": "13e3a475-1ca0-4d19-c4e1-0a6f85db5356"
      },
      "outputs": [
        {
          "output_type": "stream",
          "name": "stdout",
          "text": [
            "1\n",
            "2\n",
            "y 10\n",
            "k 100\n",
            "k\n"
          ]
        }
      ],
      "source": [
        "#boj 11557\n",
        "\n",
        "T = int(input())\n",
        "\n",
        "for _ in range(T):\n",
        "    n=int(input())\n",
        "    x, y = \"name\", -1\n",
        "    \n",
        "    for _ in range(n):\n",
        "        p, q = input().split()\n",
        "        \n",
        "        if int(q)>y:\n",
        "            x=p\n",
        "            y=int(q)\n",
        "    print(x)"
      ]
    }
  ]
}