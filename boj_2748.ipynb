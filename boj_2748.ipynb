{
  "nbformat": 4,
  "nbformat_minor": 0,
  "metadata": {
    "colab": {
      "provenance": [],
      "authorship_tag": "ABX9TyNDL72GvLyB8T4+rS1HPeuM",
      "include_colab_link": true
    },
    "kernelspec": {
      "name": "python3",
      "display_name": "Python 3"
    },
    "language_info": {
      "name": "python"
    }
  },
  "cells": [
    {
      "cell_type": "markdown",
      "metadata": {
        "id": "view-in-github",
        "colab_type": "text"
      },
      "source": [
        "<a href=\"https://colab.research.google.com/github/onlygoodman/Python_practice/blob/master/boj_2748.ipynb\" target=\"_parent\"><img src=\"https://colab.research.google.com/assets/colab-badge.svg\" alt=\"Open In Colab\"/></a>"
      ]
    },
    {
      "cell_type": "code",
      "execution_count": null,
      "metadata": {
        "id": "Tf4XuIplwBFz"
      },
      "outputs": [],
      "source": [
        "fdic = {0:0, 1:1, 2:1}\n",
        "\n",
        "def fibo(n):\n",
        "    if n in fdic:\n",
        "        return fdic[n]\n",
        "    \n",
        "    else:\n",
        "        ans = fibo(n-1) + fibo(n-2)\n",
        "        fdic[n] = ans\n",
        "        return ans\n",
        "\n",
        "n= int(input())\n",
        "\n",
        "print(fibo(n))\n",
        "        "
      ]
    }
  ]
}