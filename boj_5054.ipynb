{
  "nbformat": 4,
  "nbformat_minor": 0,
  "metadata": {
    "colab": {
      "provenance": [],
      "authorship_tag": "ABX9TyOVPIsXfgUeDZGcMKRUr1D5",
      "include_colab_link": true
    },
    "kernelspec": {
      "name": "python3",
      "display_name": "Python 3"
    },
    "language_info": {
      "name": "python"
    }
  },
  "cells": [
    {
      "cell_type": "markdown",
      "metadata": {
        "id": "view-in-github",
        "colab_type": "text"
      },
      "source": [
        "<a href=\"https://colab.research.google.com/github/onlygoodman/Python_practice/blob/master/boj_5054.ipynb\" target=\"_parent\"><img src=\"https://colab.research.google.com/assets/colab-badge.svg\" alt=\"Open In Colab\"/></a>"
      ]
    },
    {
      "cell_type": "code",
      "execution_count": null,
      "metadata": {
        "id": "1uJzI3hAk6t5"
      },
      "outputs": [],
      "source": [
        "t = int(input())\n",
        "\n",
        "for _ in range(t):\n",
        "    c = int(input())\n",
        "    nlist = list(map(int, input().split()))\n",
        "    s = sorted(nlist)\n",
        "    x = len(s)//2\n",
        "    print((s[-1]-s[x])*2 + (s[x]-s[0])*2)"
      ]
    }
  ]
}