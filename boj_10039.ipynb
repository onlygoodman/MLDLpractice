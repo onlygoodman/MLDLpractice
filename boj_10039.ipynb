{
  "nbformat": 4,
  "nbformat_minor": 0,
  "metadata": {
    "colab": {
      "name": "boj 10039.ipynb",
      "provenance": [],
      "authorship_tag": "ABX9TyNLFR+6HoLFWgeBONT+B6Xb",
      "include_colab_link": true
    },
    "kernelspec": {
      "name": "python3",
      "display_name": "Python 3"
    },
    "language_info": {
      "name": "python"
    }
  },
  "cells": [
    {
      "cell_type": "markdown",
      "metadata": {
        "id": "view-in-github",
        "colab_type": "text"
      },
      "source": [
        "<a href=\"https://colab.research.google.com/github/onlygoodman/MLDLpractice/blob/master/boj_10039.ipynb\" target=\"_parent\"><img src=\"https://colab.research.google.com/assets/colab-badge.svg\" alt=\"Open In Colab\"/></a>"
      ]
    },
    {
      "cell_type": "code",
      "execution_count": null,
      "metadata": {
        "id": "-DjQz5G0DxXN"
      },
      "outputs": [],
      "source": [
        "scorelist = []\n",
        "\n",
        "for _ in range(5):\n",
        "    score = int(input())\n",
        "    \n",
        "    if score<40:\n",
        "        scorelist.append(40)\n",
        "    else:\n",
        "        scorelist.append(score)\n",
        "        \n",
        "print(sum(scorelist)//5)"
      ]
    }
  ]
}