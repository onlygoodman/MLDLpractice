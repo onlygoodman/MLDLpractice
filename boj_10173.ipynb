{
  "nbformat": 4,
  "nbformat_minor": 0,
  "metadata": {
    "colab": {
      "provenance": [],
      "authorship_tag": "ABX9TyPgH3DMmb/uzYk9L1bYADP8",
      "include_colab_link": true
    },
    "kernelspec": {
      "name": "python3",
      "display_name": "Python 3"
    },
    "language_info": {
      "name": "python"
    }
  },
  "cells": [
    {
      "cell_type": "markdown",
      "metadata": {
        "id": "view-in-github",
        "colab_type": "text"
      },
      "source": [
        "<a href=\"https://colab.research.google.com/github/onlygoodman/Python_practice/blob/master/boj_10173.ipynb\" target=\"_parent\"><img src=\"https://colab.research.google.com/assets/colab-badge.svg\" alt=\"Open In Colab\"/></a>"
      ]
    },
    {
      "cell_type": "code",
      "execution_count": 1,
      "metadata": {
        "colab": {
          "base_uri": "https://localhost:8080/"
        },
        "id": "basZwiID-Hd9",
        "outputId": "b71c1a3b-637a-46ad-8eeb-157a6effa118"
      },
      "outputs": [
        {
          "name": "stdout",
          "output_type": "stream",
          "text": [
            "Marlin names this last egg Nemo, a name that Coral liked.\n",
            "Found\n",
            "EOI\n"
          ]
        }
      ],
      "source": [
        "# import sys\n",
        "\n",
        "# input = sys.stdin.readline\n",
        "\n",
        "while True :\n",
        "    \n",
        "    sen = input()\n",
        "    \n",
        "    if sen == 'EOI':\n",
        "        break\n",
        "        \n",
        "    if 'NEMO' in sen.upper():\n",
        "        print('Found')\n",
        "        \n",
        "    elif 'NEMO' not in sen.upper():\n",
        "        print('Missing')"
      ]
    }
  ]
}