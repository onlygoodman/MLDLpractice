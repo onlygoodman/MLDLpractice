{
  "nbformat": 4,
  "nbformat_minor": 0,
  "metadata": {
    "colab": {
      "name": "boj15649.ipynb",
      "provenance": [],
      "authorship_tag": "ABX9TyMSmlbJooyjiCM7VTGqNuFW",
      "include_colab_link": true
    },
    "kernelspec": {
      "name": "python3",
      "display_name": "Python 3"
    },
    "language_info": {
      "name": "python"
    }
  },
  "cells": [
    {
      "cell_type": "markdown",
      "metadata": {
        "id": "view-in-github",
        "colab_type": "text"
      },
      "source": [
        "<a href=\"https://colab.research.google.com/github/onlygoodman/MLDLpractice/blob/master/boj15649.ipynb\" target=\"_parent\"><img src=\"https://colab.research.google.com/assets/colab-badge.svg\" alt=\"Open In Colab\"/></a>"
      ]
    },
    {
      "cell_type": "markdown",
      "source": [
        "boj 15649\n",
        "\n",
        "\n",
        "자연수 N과 M이 주어졌을 때, 아래 조건을 만족하는 길이가 M인 수열을 모두 구하는 프로그램을 작성하시오.\n",
        "\n",
        "1부터 N까지 자연수 중에서 중복 없이 M개를 고른 수열"
      ],
      "metadata": {
        "id": "Z4zp5vW4c7Bj"
      }
    },
    {
      "cell_type": "code",
      "execution_count": null,
      "metadata": {
        "id": "u3l6qweUc3Vc"
      },
      "outputs": [],
      "source": [
        "from itertools import permutations\n",
        "\n",
        "n, m = map(int, input().split())\n",
        "for x in list(permutations([i+1 for i in range(n)], m)):\n",
        "  print(*x)"
      ]
    }
  ]
}