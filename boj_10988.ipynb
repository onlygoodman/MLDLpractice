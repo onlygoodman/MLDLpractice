{
  "nbformat": 4,
  "nbformat_minor": 0,
  "metadata": {
    "colab": {
      "name": "boj 10988.ipynb",
      "provenance": [],
      "authorship_tag": "ABX9TyP5xyvv64bditiS6csCJ48i",
      "include_colab_link": true
    },
    "kernelspec": {
      "name": "python3",
      "display_name": "Python 3"
    },
    "language_info": {
      "name": "python"
    }
  },
  "cells": [
    {
      "cell_type": "markdown",
      "metadata": {
        "id": "view-in-github",
        "colab_type": "text"
      },
      "source": [
        "<a href=\"https://colab.research.google.com/github/onlygoodman/MLDLpractice/blob/master/boj_10988.ipynb\" target=\"_parent\"><img src=\"https://colab.research.google.com/assets/colab-badge.svg\" alt=\"Open In Colab\"/></a>"
      ]
    },
    {
      "cell_type": "code",
      "execution_count": 7,
      "metadata": {
        "colab": {
          "base_uri": "https://localhost:8080/"
        },
        "id": "NxSI3GYppR8F",
        "outputId": "d450b3c9-df57-4073-b1d8-18a183ae20ec"
      },
      "outputs": [
        {
          "output_type": "stream",
          "name": "stdout",
          "text": [
            "<reversed object at 0x7f6236563990>\n"
          ]
        }
      ],
      "source": [
        "x = 'word'\n",
        "z = str(reversed(x))\n",
        "print(z)"
      ]
    },
    {
      "cell_type": "code",
      "source": [
        "print(list(x))\n",
        "y = list(x)\n",
        "y.reverse()\n",
        "print(y)"
      ],
      "metadata": {
        "colab": {
          "base_uri": "https://localhost:8080/"
        },
        "id": "JRXpS9KBq2kl",
        "outputId": "fdb6d779-3b51-4b3e-ebed-976329f85329"
      },
      "execution_count": 12,
      "outputs": [
        {
          "output_type": "stream",
          "name": "stdout",
          "text": [
            "['w', 'o', 'r', 'd']\n",
            "['d', 'r', 'o', 'w']\n"
          ]
        }
      ]
    },
    {
      "cell_type": "code",
      "source": [
        "word = input()\n",
        "wordlist = list(word)\n",
        "wordlist.reverse()\n",
        "cw = \"\".join(wordlist)\n",
        "\n",
        "if word == cw:\n",
        "    print(1)\n",
        "else:\n",
        "    print(0)"
      ],
      "metadata": {
        "colab": {
          "base_uri": "https://localhost:8080/"
        },
        "id": "SALsBIS4rhls",
        "outputId": "0c1a4810-42b8-4e42-f6b4-45b6e2f28915"
      },
      "execution_count": 13,
      "outputs": [
        {
          "output_type": "stream",
          "name": "stdout",
          "text": [
            "level\n",
            "1\n"
          ]
        }
      ]
    }
  ]
}