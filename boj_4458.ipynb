{
  "nbformat": 4,
  "nbformat_minor": 0,
  "metadata": {
    "colab": {
      "provenance": [],
      "authorship_tag": "ABX9TyM2SQYdJ3zDawDKTduf9yaX",
      "include_colab_link": true
    },
    "kernelspec": {
      "name": "python3",
      "display_name": "Python 3"
    },
    "language_info": {
      "name": "python"
    }
  },
  "cells": [
    {
      "cell_type": "markdown",
      "metadata": {
        "id": "view-in-github",
        "colab_type": "text"
      },
      "source": [
        "<a href=\"https://colab.research.google.com/github/onlygoodman/Python_practice/blob/master/boj_4458.ipynb\" target=\"_parent\"><img src=\"https://colab.research.google.com/assets/colab-badge.svg\" alt=\"Open In Colab\"/></a>"
      ]
    },
    {
      "cell_type": "code",
      "execution_count": null,
      "metadata": {
        "id": "AFnW724rp6zI"
      },
      "outputs": [],
      "source": [
        "# import sys\n",
        "# input = sys.stdin.readline\n",
        "\n",
        "def change(word):\n",
        "    c = word[0].upper()\n",
        "    \n",
        "    return c+word[1:]\n",
        "    \n",
        "\n",
        "t = int(input())\n",
        "\n",
        "for _ in range(t):\n",
        "    word = input()\n",
        "    print(change(word))"
      ]
    }
  ]
}