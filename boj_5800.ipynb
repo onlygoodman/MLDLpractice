{
  "nbformat": 4,
  "nbformat_minor": 0,
  "metadata": {
    "colab": {
      "provenance": [],
      "authorship_tag": "ABX9TyP7nDdbCuaEDghzPUwBA0FW",
      "include_colab_link": true
    },
    "kernelspec": {
      "name": "python3",
      "display_name": "Python 3"
    },
    "language_info": {
      "name": "python"
    }
  },
  "cells": [
    {
      "cell_type": "markdown",
      "metadata": {
        "id": "view-in-github",
        "colab_type": "text"
      },
      "source": [
        "<a href=\"https://colab.research.google.com/github/onlygoodman/Python_practice/blob/master/boj_5800.ipynb\" target=\"_parent\"><img src=\"https://colab.research.google.com/assets/colab-badge.svg\" alt=\"Open In Colab\"/></a>"
      ]
    },
    {
      "cell_type": "code",
      "execution_count": 3,
      "metadata": {
        "colab": {
          "base_uri": "https://localhost:8080/"
        },
        "id": "o8eL_IC0P8PQ",
        "outputId": "e54db882-451c-4d67-adfa-f4764e28d7cc"
      },
      "outputs": [
        {
          "output_type": "stream",
          "name": "stdout",
          "text": [
            "1\n",
            "5 30 25 76 23 78\n",
            "Class 1\n",
            "Max 78, Min 23, Largest gap 46\n"
          ]
        }
      ],
      "source": [
        "# import sys\n",
        "\n",
        "# input = sys.stdin.readline\n",
        "\n",
        "case = int(input())\n",
        "\n",
        "for i in range(1, case+1):\n",
        "  s = list(map(int, input().split()))\n",
        "  score = sorted(s[1::])\n",
        "\n",
        "  score_gap = [(score[j+1] - score[j]) for j in range(len(score)-1)]\n",
        "\n",
        "  print(\"Class {}\".format(i))\n",
        "  print(\"Max {}, Min {}, Largest gap {}\".format(score[-1], score[0], max(score_gap)))"
      ]
    }
  ]
}