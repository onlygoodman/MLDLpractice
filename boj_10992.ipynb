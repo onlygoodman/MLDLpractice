{
  "nbformat": 4,
  "nbformat_minor": 0,
  "metadata": {
    "colab": {
      "provenance": [],
      "authorship_tag": "ABX9TyMMSJ0lAfF+bFXrxtWGlrUk",
      "include_colab_link": true
    },
    "kernelspec": {
      "name": "python3",
      "display_name": "Python 3"
    },
    "language_info": {
      "name": "python"
    }
  },
  "cells": [
    {
      "cell_type": "markdown",
      "metadata": {
        "id": "view-in-github",
        "colab_type": "text"
      },
      "source": [
        "<a href=\"https://colab.research.google.com/github/onlygoodman/Python_practice/blob/master/boj_10992.ipynb\" target=\"_parent\"><img src=\"https://colab.research.google.com/assets/colab-badge.svg\" alt=\"Open In Colab\"/></a>"
      ]
    },
    {
      "cell_type": "code",
      "execution_count": 2,
      "metadata": {
        "colab": {
          "base_uri": "https://localhost:8080/"
        },
        "id": "uRq1qFJt_UP_",
        "outputId": "799c6b3a-56c3-4bfc-abd5-456c27fe8cb4"
      },
      "outputs": [
        {
          "output_type": "stream",
          "name": "stdout",
          "text": [
            "4\n",
            "   *\n",
            "  * *\n",
            " *   *\n",
            "*******\n"
          ]
        }
      ],
      "source": [
        "n = int(input())\n",
        "\n",
        "if n>1:\n",
        "    print(\" \"*(n-1) + \"*\")\n",
        "    \n",
        "    for i in range(n-2):\n",
        "        print(\"{}*{}*\".format(\" \"*(n-2-i), \" \"*(2*i+1)))\n",
        "\n",
        "    print(\"*\"*(2*n-1))\n",
        "    \n",
        "else :\n",
        "    print(\"*\")"
      ]
    }
  ]
}