{
  "nbformat": 4,
  "nbformat_minor": 0,
  "metadata": {
    "colab": {
      "name": "Boj 0812.ipynb",
      "provenance": [],
      "authorship_tag": "ABX9TyOmtaVNPUK/RllmqpYTzC41",
      "include_colab_link": true
    },
    "kernelspec": {
      "name": "python3",
      "display_name": "Python 3"
    },
    "language_info": {
      "name": "python"
    }
  },
  "cells": [
    {
      "cell_type": "markdown",
      "metadata": {
        "id": "view-in-github",
        "colab_type": "text"
      },
      "source": [
        "<a href=\"https://colab.research.google.com/github/onlygoodman/MLDLpractice/blob/master/Boj_0812.ipynb\" target=\"_parent\"><img src=\"https://colab.research.google.com/assets/colab-badge.svg\" alt=\"Open In Colab\"/></a>"
      ]
    },
    {
      "cell_type": "code",
      "execution_count": null,
      "metadata": {
        "id": "NI47LT3831EU"
      },
      "outputs": [],
      "source": [
        "n=int(input())\n",
        "answer=0\n",
        "\n",
        "for i in range(n):\n",
        "    s, a = map(int, input().split())     \n",
        "    answer+= a%s\n",
        "print(answer)"
      ]
    }
  ]
}