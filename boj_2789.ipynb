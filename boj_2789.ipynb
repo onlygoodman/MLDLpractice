{
  "nbformat": 4,
  "nbformat_minor": 0,
  "metadata": {
    "colab": {
      "provenance": [],
      "authorship_tag": "ABX9TyOhA3gIGrbVgkuWa0Lehlmv",
      "include_colab_link": true
    },
    "kernelspec": {
      "name": "python3",
      "display_name": "Python 3"
    },
    "language_info": {
      "name": "python"
    }
  },
  "cells": [
    {
      "cell_type": "markdown",
      "metadata": {
        "id": "view-in-github",
        "colab_type": "text"
      },
      "source": [
        "<a href=\"https://colab.research.google.com/github/onlygoodman/Python_practice/blob/master/boj_2789.ipynb\" target=\"_parent\"><img src=\"https://colab.research.google.com/assets/colab-badge.svg\" alt=\"Open In Colab\"/></a>"
      ]
    },
    {
      "cell_type": "code",
      "execution_count": null,
      "metadata": {
        "id": "ymiP012uwHsf"
      },
      "outputs": [],
      "source": [
        "dw = 'CAMBRIDGE'\n",
        "\n",
        "word = input()\n",
        "answer = ''\n",
        "for i in word:\n",
        "    if i not in dw:\n",
        "        answer += i\n",
        "\n",
        "print(answer)"
      ]
    }
  ]
}