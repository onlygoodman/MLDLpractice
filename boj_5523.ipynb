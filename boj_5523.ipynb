{
  "nbformat": 4,
  "nbformat_minor": 0,
  "metadata": {
    "colab": {
      "provenance": [],
      "authorship_tag": "ABX9TyPfRnodmDb/ckG23fxQ6pg3",
      "include_colab_link": true
    },
    "kernelspec": {
      "name": "python3",
      "display_name": "Python 3"
    },
    "language_info": {
      "name": "python"
    }
  },
  "cells": [
    {
      "cell_type": "markdown",
      "metadata": {
        "id": "view-in-github",
        "colab_type": "text"
      },
      "source": [
        "<a href=\"https://colab.research.google.com/github/onlygoodman/Python_practice/blob/master/boj_5523.ipynb\" target=\"_parent\"><img src=\"https://colab.research.google.com/assets/colab-badge.svg\" alt=\"Open In Colab\"/></a>"
      ]
    },
    {
      "cell_type": "code",
      "execution_count": null,
      "metadata": {
        "id": "lcz-2sFYCf9M"
      },
      "outputs": [],
      "source": [
        "import sys\n",
        "\n",
        "input = sys.stdin.readline\n",
        "\n",
        "t = int(input())\n",
        "answer = [0, 0]\n",
        "\n",
        "for _ in range(t):\n",
        "    x, y = map(int, input().split())\n",
        "    \n",
        "    if x>y:\n",
        "        answer[0] += 1\n",
        "    \n",
        "    elif x<y:\n",
        "        answer[1] += 1\n",
        "        \n",
        "print(*answer)"
      ]
    }
  ]
}