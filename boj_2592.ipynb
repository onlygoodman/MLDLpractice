{
  "nbformat": 4,
  "nbformat_minor": 0,
  "metadata": {
    "colab": {
      "provenance": [],
      "authorship_tag": "ABX9TyNoQz76FLil371w+fyCHB3K",
      "include_colab_link": true
    },
    "kernelspec": {
      "name": "python3",
      "display_name": "Python 3"
    },
    "language_info": {
      "name": "python"
    }
  },
  "cells": [
    {
      "cell_type": "markdown",
      "metadata": {
        "id": "view-in-github",
        "colab_type": "text"
      },
      "source": [
        "<a href=\"https://colab.research.google.com/github/onlygoodman/Python_practice/blob/master/boj_2592.ipynb\" target=\"_parent\"><img src=\"https://colab.research.google.com/assets/colab-badge.svg\" alt=\"Open In Colab\"/></a>"
      ]
    },
    {
      "cell_type": "code",
      "execution_count": null,
      "metadata": {
        "id": "6FxOAJQl0Id8"
      },
      "outputs": [],
      "source": [
        "nlist = [int(input()) for _ in range(10)]\n",
        "sortlist = sorted(nlist)\n",
        "i = 0\n",
        "nownum = -1\n",
        "countlist = [0 for _ in range(10)]\n",
        "\n",
        "for j in sortlist:\n",
        "    if nownum != j:\n",
        "        countlist[i] += 1\n",
        "        nownum = j\n",
        "        i += 1\n",
        "    else :\n",
        "        countlist[i] += 1\n",
        "        nownum = j\n",
        "\n",
        "f = countlist.index(max(countlist))\n",
        "\n",
        "print(sum(nlist)//10)\n",
        "print(print(sortlist[f]))"
      ]
    },
    {
      "cell_type": "code",
      "source": [],
      "metadata": {
        "id": "wXgvNQTn0KlU"
      },
      "execution_count": null,
      "outputs": []
    }
  ]
}