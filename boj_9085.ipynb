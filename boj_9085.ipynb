{
  "nbformat": 4,
  "nbformat_minor": 0,
  "metadata": {
    "colab": {
      "name": "boj 9085.ipynb",
      "provenance": [],
      "authorship_tag": "ABX9TyOx8DxvU73Lx2Kqx7ZM81wI",
      "include_colab_link": true
    },
    "kernelspec": {
      "name": "python3",
      "display_name": "Python 3"
    },
    "language_info": {
      "name": "python"
    }
  },
  "cells": [
    {
      "cell_type": "markdown",
      "metadata": {
        "id": "view-in-github",
        "colab_type": "text"
      },
      "source": [
        "<a href=\"https://colab.research.google.com/github/onlygoodman/Python_practice/blob/master/boj_9085.ipynb\" target=\"_parent\"><img src=\"https://colab.research.google.com/assets/colab-badge.svg\" alt=\"Open In Colab\"/></a>"
      ]
    },
    {
      "cell_type": "code",
      "execution_count": null,
      "metadata": {
        "id": "G4RSSz9MtDQW"
      },
      "outputs": [],
      "source": [
        "n = int(input())\n",
        "\n",
        "for _ in range(n):\n",
        "    m = int(input())\n",
        "    numlist = list(map(int, input().split()))\n",
        "    print(sum(numlist))"
      ]
    }
  ]
}