{
  "nbformat": 4,
  "nbformat_minor": 0,
  "metadata": {
    "colab": {
      "name": "boj 1051.ipynb",
      "provenance": [],
      "authorship_tag": "ABX9TyN9HWzuWuZFNvVMRz3L7a/3",
      "include_colab_link": true
    },
    "kernelspec": {
      "name": "python3",
      "display_name": "Python 3"
    },
    "language_info": {
      "name": "python"
    }
  },
  "cells": [
    {
      "cell_type": "markdown",
      "metadata": {
        "id": "view-in-github",
        "colab_type": "text"
      },
      "source": [
        "<a href=\"https://colab.research.google.com/github/onlygoodman/MLDLpractice/blob/master/boj_1051.ipynb\" target=\"_parent\"><img src=\"https://colab.research.google.com/assets/colab-badge.svg\" alt=\"Open In Colab\"/></a>"
      ]
    },
    {
      "cell_type": "code",
      "execution_count": null,
      "metadata": {
        "id": "QK10FJIKyM0P"
      },
      "outputs": [],
      "source": [
        "n, m = map(int, input().split())\n",
        "\n",
        "arr = []\n",
        "\n",
        "for i in range(n):\n",
        "    arr.append(list(input()))\n",
        "\n",
        "check = min(n, m)\n",
        "answer = 0\n",
        "for i in range(n):\n",
        "    for j in range(m):\n",
        "        for k in range(check):\n",
        "            if ((i + k) < n) and ((j + k) < m) and (arr[i][j] == arr[i][j + k] == arr[i + k][j] == arr[i + k][j + k]):\n",
        "                answer = max(answer, (k + 1)**2)\n",
        "                \n",
        "print(answer)"
      ]
    },
    {
      "cell_type": "code",
      "source": [
        ""
      ],
      "metadata": {
        "id": "voOG4CoDyOuP"
      },
      "execution_count": null,
      "outputs": []
    }
  ]
}