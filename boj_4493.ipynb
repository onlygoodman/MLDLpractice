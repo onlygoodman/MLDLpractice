{
  "nbformat": 4,
  "nbformat_minor": 0,
  "metadata": {
    "colab": {
      "provenance": [],
      "authorship_tag": "ABX9TyPNrx5nAcfgly4T1YnqnGbJ",
      "include_colab_link": true
    },
    "kernelspec": {
      "name": "python3",
      "display_name": "Python 3"
    },
    "language_info": {
      "name": "python"
    }
  },
  "cells": [
    {
      "cell_type": "markdown",
      "metadata": {
        "id": "view-in-github",
        "colab_type": "text"
      },
      "source": [
        "<a href=\"https://colab.research.google.com/github/onlygoodman/Python_practice/blob/master/boj_4493.ipynb\" target=\"_parent\"><img src=\"https://colab.research.google.com/assets/colab-badge.svg\" alt=\"Open In Colab\"/></a>"
      ]
    },
    {
      "cell_type": "code",
      "execution_count": null,
      "metadata": {
        "id": "Kt2QF5KsEt85"
      },
      "outputs": [],
      "source": [
        "for _ in range(int(input())):\n",
        "    n = int(input())\n",
        "    p1 = p2 = 0\n",
        "    for i in range(n):\n",
        "        a, b = input().split()\n",
        "        if a == b:\n",
        "            continue\n",
        "        elif (a == 'R' and b == 'S') or (a == 'P' and b == 'R') or (a == 'S' and b == 'P'):\n",
        "            p1 += 1\n",
        "        else:\n",
        "            p2 += 1\n",
        "    if p1 > p2:\n",
        "        print(\"Player 1\")\n",
        "    elif p1 < p2:\n",
        "        print(\"Player 2\")\n",
        "    else:\n",
        "        print(\"TIE\")"
      ]
    }
  ]
}