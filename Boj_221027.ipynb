{
  "nbformat": 4,
  "nbformat_minor": 0,
  "metadata": {
    "colab": {
      "provenance": [],
      "authorship_tag": "ABX9TyPs1Kj0sitUgrb6JBStQJr6",
      "include_colab_link": true
    },
    "kernelspec": {
      "name": "python3",
      "display_name": "Python 3"
    },
    "language_info": {
      "name": "python"
    }
  },
  "cells": [
    {
      "cell_type": "markdown",
      "metadata": {
        "id": "view-in-github",
        "colab_type": "text"
      },
      "source": [
        "<a href=\"https://colab.research.google.com/github/onlygoodman/Python_practice/blob/master/Boj_221027.ipynb\" target=\"_parent\"><img src=\"https://colab.research.google.com/assets/colab-badge.svg\" alt=\"Open In Colab\"/></a>"
      ]
    },
    {
      "cell_type": "code",
      "execution_count": null,
      "metadata": {
        "id": "LNLVAMPurHBp"
      },
      "outputs": [],
      "source": [
        "import sys\n",
        "\n",
        "input = sys.stdin.readline\n",
        "\n",
        "n = int(input())\n",
        "\n",
        "while True:\n",
        "    \n",
        "    x = int(input())\n",
        "    \n",
        "    if x == 0 :\n",
        "        break\n",
        "        \n",
        "    if x % n == 0:\n",
        "        print(\"{} is a multiple of {}.\".format(x, n))\n",
        "    else :\n",
        "        print(\"{} is NOT a multiple of {}.\".format(x, n))"
      ]
    }
  ]
}