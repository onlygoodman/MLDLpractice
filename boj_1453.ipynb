{
  "nbformat": 4,
  "nbformat_minor": 0,
  "metadata": {
    "colab": {
      "provenance": [],
      "authorship_tag": "ABX9TyOygb7l9dvZzSbz/8YH/+y4",
      "include_colab_link": true
    },
    "kernelspec": {
      "name": "python3",
      "display_name": "Python 3"
    },
    "language_info": {
      "name": "python"
    }
  },
  "cells": [
    {
      "cell_type": "markdown",
      "metadata": {
        "id": "view-in-github",
        "colab_type": "text"
      },
      "source": [
        "<a href=\"https://colab.research.google.com/github/onlygoodman/Python_practice/blob/master/boj_1453.ipynb\" target=\"_parent\"><img src=\"https://colab.research.google.com/assets/colab-badge.svg\" alt=\"Open In Colab\"/></a>"
      ]
    },
    {
      "cell_type": "code",
      "execution_count": 5,
      "metadata": {
        "colab": {
          "base_uri": "https://localhost:8080/"
        },
        "id": "CHdUiAkaTLAG",
        "outputId": "eac57374-fb44-4e52-9fd7-0d0b5b7577cd"
      },
      "outputs": [
        {
          "output_type": "stream",
          "name": "stdout",
          "text": [
            "5\n",
            "1 1 2 2 3\n",
            "2\n"
          ]
        }
      ],
      "source": [
        "t = int(input())\n",
        "\n",
        "torf = [False for _ in range(101)]\n",
        "nlist = list(map(int, input().split()))\n",
        "count = 0\n",
        "\n",
        "for i in nlist:\n",
        "\n",
        "    if torf[i]==False:\n",
        "        torf[i] = True\n",
        "        \n",
        "    elif torf[i]==True:\n",
        "        count += 1\n",
        "\n",
        "print(count)\n",
        "        \n",
        "\n"
      ]
    },
    {
      "cell_type": "code",
      "source": [
        "print(torf)"
      ],
      "metadata": {
        "colab": {
          "base_uri": "https://localhost:8080/"
        },
        "id": "z4ge3K4qTb9P",
        "outputId": "af603181-b49e-43b4-91fb-ced3ea3e90f4"
      },
      "execution_count": 4,
      "outputs": [
        {
          "output_type": "stream",
          "name": "stdout",
          "text": [
            "[False, False, False, False, False, False, False, False, False, False, False, False, False, False, False, False, False, False, False, False, False, False, False, False, False, False, False, False, False, False, False, False, False, False, False, False, False, False, False, False, False, False, False, False, False, False, False, False, False, False, False, False, False, False, False, False, False, False, False, False, False, False, False, False, False, False, False, False, False, False, False, False, False, False, False, False, False, False, False, False, False, False, False, False, False, False, False, False, False, False, False, False, False, False, False, False, False, False, False, False, False]\n"
          ]
        }
      ]
    }
  ]
}