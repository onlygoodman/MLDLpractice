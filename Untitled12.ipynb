{
  "nbformat": 4,
  "nbformat_minor": 0,
  "metadata": {
    "colab": {
      "name": "Untitled12.ipynb",
      "provenance": [],
      "authorship_tag": "ABX9TyPHh+8ZcvTCy5A3EfLQs0Gu",
      "include_colab_link": true
    },
    "kernelspec": {
      "name": "python3",
      "display_name": "Python 3"
    },
    "language_info": {
      "name": "python"
    }
  },
  "cells": [
    {
      "cell_type": "markdown",
      "metadata": {
        "id": "view-in-github",
        "colab_type": "text"
      },
      "source": [
        "<a href=\"https://colab.research.google.com/github/onlygoodman/MLDLpractice/blob/master/Untitled12.ipynb\" target=\"_parent\"><img src=\"https://colab.research.google.com/assets/colab-badge.svg\" alt=\"Open In Colab\"/></a>"
      ]
    },
    {
      "cell_type": "code",
      "execution_count": null,
      "metadata": {
        "colab": {
          "base_uri": "https://localhost:8080/"
        },
        "id": "us-JaU4_bpI1",
        "outputId": "6afbff94-e6d3-4172-e01d-c9a53a0a80d9"
      },
      "outputs": [
        {
          "name": "stdout",
          "output_type": "stream",
          "text": [
            "Wa\n"
          ]
        }
      ],
      "source": [
        "#boj\n",
        "\n",
        "words=input().lower()\n",
        "\n",
        "alpha3=\"abcdefghijklmno\"\n",
        "alpha4=\"pqrs\"\n",
        "alpha5=\"tuv\"\n",
        "alpha6=\"wxyz\"\n",
        "aldic={}\n",
        "count=0\n",
        "value=3\n",
        "\n",
        "for i in alpha3:\n",
        "    aldic[i]=value\n",
        "    count+=1\n",
        "    \n",
        "    if count==2:\n",
        "        count=0\n",
        "        value+=1\n",
        "        \n",
        "for i in alpha4:\n",
        "    aldic[i]=8\n",
        "\n",
        "for i in alpha5:\n",
        "    aldic[i]=9\n",
        "for i in alpha6:\n",
        "    aldic[i]=10\n",
        "    \n",
        "answer=0    \n",
        "for i in words:\n",
        "    answer += aldic[i]\n"
      ]
    },
    {
      "cell_type": "code",
      "source": [
        ""
      ],
      "metadata": {
        "id": "0kH-_pF9y5Rn"
      },
      "execution_count": null,
      "outputs": []
    }
  ]
}