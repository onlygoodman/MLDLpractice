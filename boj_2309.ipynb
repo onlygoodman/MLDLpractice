{
  "nbformat": 4,
  "nbformat_minor": 0,
  "metadata": {
    "colab": {
      "provenance": [],
      "authorship_tag": "ABX9TyMb0H4QEIY+uNuVbF1/wDyz",
      "include_colab_link": true
    },
    "kernelspec": {
      "name": "python3",
      "display_name": "Python 3"
    },
    "language_info": {
      "name": "python"
    }
  },
  "cells": [
    {
      "cell_type": "markdown",
      "metadata": {
        "id": "view-in-github",
        "colab_type": "text"
      },
      "source": [
        "<a href=\"https://colab.research.google.com/github/onlygoodman/Python_practice/blob/master/boj_2309.ipynb\" target=\"_parent\"><img src=\"https://colab.research.google.com/assets/colab-badge.svg\" alt=\"Open In Colab\"/></a>"
      ]
    },
    {
      "cell_type": "code",
      "execution_count": null,
      "metadata": {
        "id": "M8UVBFt--v5h"
      },
      "outputs": [],
      "source": [
        "from itertools import combinations\n",
        "import sys\n",
        "\n",
        "input = sys.stdin.readline\n",
        "\n",
        "nlist = [int(input()) for _ in range(9)]\n",
        "comlist = list(combinations(nlist, 7))\n",
        "\n",
        "for i in comlist:\n",
        "  if sum(i) == 100:\n",
        "    for x in sorted(i):\n",
        "      print(x)\n",
        "    break"
      ]
    }
  ]
}