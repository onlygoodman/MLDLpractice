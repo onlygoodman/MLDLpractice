{
  "nbformat": 4,
  "nbformat_minor": 0,
  "metadata": {
    "colab": {
      "name": "boj 2444.ipynb",
      "provenance": [],
      "authorship_tag": "ABX9TyNz6cDzhyQPgdSkPyWvv+TY",
      "include_colab_link": true
    },
    "kernelspec": {
      "name": "python3",
      "display_name": "Python 3"
    },
    "language_info": {
      "name": "python"
    }
  },
  "cells": [
    {
      "cell_type": "markdown",
      "metadata": {
        "id": "view-in-github",
        "colab_type": "text"
      },
      "source": [
        "<a href=\"https://colab.research.google.com/github/onlygoodman/MLDLpractice/blob/master/boj_2444.ipynb\" target=\"_parent\"><img src=\"https://colab.research.google.com/assets/colab-badge.svg\" alt=\"Open In Colab\"/></a>"
      ]
    },
    {
      "cell_type": "code",
      "execution_count": 2,
      "metadata": {
        "colab": {
          "base_uri": "https://localhost:8080/"
        },
        "id": "pbRQ-YTIABrS",
        "outputId": "4fe81421-20b8-4c81-fcbb-987b904a04f8"
      },
      "outputs": [
        {
          "output_type": "stream",
          "name": "stdout",
          "text": [
            "5\n",
            "    *\n",
            "   ***\n",
            "  *****\n",
            " *******\n",
            "*********\n",
            " *******\n",
            "  *****\n",
            "   ***\n",
            "    *\n"
          ]
        }
      ],
      "source": [
        "#boj 2444\n",
        "\n",
        "n = int(input())\n",
        "\n",
        "for i in range(1, n+1):\n",
        "    print(\"{}{}\".format(\" \"*(n-i), \"*\"*((2*i)-1)))\n",
        "\n",
        "for i in range(1, n):\n",
        "    print(\"{}{}\".format(\" \"*i, \"*\"*(2*(n-i)-1)))"
      ]
    },
    {
      "cell_type": "code",
      "source": [
        ""
      ],
      "metadata": {
        "id": "jZobcSHrAfUl"
      },
      "execution_count": null,
      "outputs": []
    }
  ]
}