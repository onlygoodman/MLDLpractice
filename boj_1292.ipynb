{
  "nbformat": 4,
  "nbformat_minor": 0,
  "metadata": {
    "colab": {
      "provenance": [],
      "authorship_tag": "ABX9TyP1/KjnNPffp0V/LXoLeDBZ",
      "include_colab_link": true
    },
    "kernelspec": {
      "name": "python3",
      "display_name": "Python 3"
    },
    "language_info": {
      "name": "python"
    }
  },
  "cells": [
    {
      "cell_type": "markdown",
      "metadata": {
        "id": "view-in-github",
        "colab_type": "text"
      },
      "source": [
        "<a href=\"https://colab.research.google.com/github/onlygoodman/Python_practice/blob/master/boj_1292.ipynb\" target=\"_parent\"><img src=\"https://colab.research.google.com/assets/colab-badge.svg\" alt=\"Open In Colab\"/></a>"
      ]
    },
    {
      "cell_type": "code",
      "execution_count": null,
      "metadata": {
        "id": "HOk-0Z52k240"
      },
      "outputs": [],
      "source": [
        "s, e = map(int, input().split())\n",
        "\n",
        "an = [0 for _ in range(1000)]\n",
        "\n",
        "p = 1\n",
        "\n",
        "for i in range(1000):\n",
        "    if p*(p+1)//2 <= i:\n",
        "        p += 1\n",
        "    \n",
        "    an[i] += p\n",
        "    \n",
        "print(sum(an[s-1:e]))"
      ]
    }
  ]
}