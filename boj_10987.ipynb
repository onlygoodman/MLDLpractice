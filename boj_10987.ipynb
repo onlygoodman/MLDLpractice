{
  "nbformat": 4,
  "nbformat_minor": 0,
  "metadata": {
    "colab": {
      "provenance": [],
      "authorship_tag": "ABX9TyPj5wYODFWN7o996JV/ponh",
      "include_colab_link": true
    },
    "kernelspec": {
      "name": "python3",
      "display_name": "Python 3"
    },
    "language_info": {
      "name": "python"
    }
  },
  "cells": [
    {
      "cell_type": "markdown",
      "metadata": {
        "id": "view-in-github",
        "colab_type": "text"
      },
      "source": [
        "<a href=\"https://colab.research.google.com/github/onlygoodman/Python_practice/blob/master/boj_10987.ipynb\" target=\"_parent\"><img src=\"https://colab.research.google.com/assets/colab-badge.svg\" alt=\"Open In Colab\"/></a>"
      ]
    },
    {
      "cell_type": "code",
      "execution_count": 3,
      "metadata": {
        "colab": {
          "base_uri": "https://localhost:8080/"
        },
        "id": "SPLAMrKwe5Z3",
        "outputId": "3997752a-b45e-4fd5-b414-1e12a051aeab"
      },
      "outputs": [
        {
          "output_type": "stream",
          "name": "stdout",
          "text": [
            "baekjoon\n",
            "4\n"
          ]
        }
      ],
      "source": [
        "word = input()\n",
        "mo = ['a', 'e', 'i', 'o', 'u']\n",
        "\n",
        "answer = 0\n",
        "\n",
        "for x in mo:\n",
        "  answer += word.count(x)\n",
        "\n",
        "print(answer)"
      ]
    }
  ]
}