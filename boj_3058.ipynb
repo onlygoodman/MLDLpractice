{
  "nbformat": 4,
  "nbformat_minor": 0,
  "metadata": {
    "colab": {
      "provenance": [],
      "authorship_tag": "ABX9TyNbsj8hnCYJewaWhVT19NWy",
      "include_colab_link": true
    },
    "kernelspec": {
      "name": "python3",
      "display_name": "Python 3"
    },
    "language_info": {
      "name": "python"
    }
  },
  "cells": [
    {
      "cell_type": "markdown",
      "metadata": {
        "id": "view-in-github",
        "colab_type": "text"
      },
      "source": [
        "<a href=\"https://colab.research.google.com/github/onlygoodman/Python_practice/blob/master/boj_3058.ipynb\" target=\"_parent\"><img src=\"https://colab.research.google.com/assets/colab-badge.svg\" alt=\"Open In Colab\"/></a>"
      ]
    },
    {
      "cell_type": "code",
      "execution_count": null,
      "metadata": {
        "id": "tPfqonJIHxRQ"
      },
      "outputs": [],
      "source": [
        "import sys\n",
        "\n",
        "input = sys.stdin.readline\n",
        "t = int(input())\n",
        "\n",
        "for _ in range(t):\n",
        "    nlist = list(map(int, input().split()))\n",
        "    evenlist = sorted([i for i in nlist if i%2 == 0])\n",
        "    \n",
        "    print(sum(evenlist), evenlist[0])\n"
      ]
    }
  ]
}