{
  "nbformat": 4,
  "nbformat_minor": 0,
  "metadata": {
    "colab": {
      "provenance": [],
      "authorship_tag": "ABX9TyP2+LjgfWOUFuq24i9u0Bbb",
      "include_colab_link": true
    },
    "kernelspec": {
      "name": "python3",
      "display_name": "Python 3"
    },
    "language_info": {
      "name": "python"
    }
  },
  "cells": [
    {
      "cell_type": "markdown",
      "metadata": {
        "id": "view-in-github",
        "colab_type": "text"
      },
      "source": [
        "<a href=\"https://colab.research.google.com/github/onlygoodman/Python_practice/blob/master/boj_2822.ipynb\" target=\"_parent\"><img src=\"https://colab.research.google.com/assets/colab-badge.svg\" alt=\"Open In Colab\"/></a>"
      ]
    },
    {
      "cell_type": "markdown",
      "source": [
        "# 백준 2822번 - 점수계산\n",
        "\n",
        "- 풀이는 총 가지를 준비해 보았습니다.\n",
        "\n",
        "- 공유하고자하는 핵심 스킬은 python에서 '내포기능' 입니다.\n",
        "\n"
      ],
      "metadata": {
        "id": "zTgCigQMwHOc"
      }
    },
    {
      "cell_type": "code",
      "source": [
        "# sol1) 기본풀이\n",
        "\n",
        "# 8개 줄에 걸쳐서 각 문제에 대한 참가자의 점수가 주어지므로\n",
        "# 빈리스트를 준비하고 append로 추가하며 input()을 8번 반복하는 형식으로 받겠습니다.\n",
        "\n",
        "nlist = []\n",
        "for _ in range(8):\n",
        "  nlist.append(int(input()))\n",
        "\n",
        "# 8개의 점수중 가장 높은 점수 5개의 합을 구하는 문제\n",
        "# 점수의 정렬 이후 index 기준으로 3~7번의 합을 구하면 될 것이다.\n",
        "\n",
        "# nlist를 정렬\n",
        "sorted_list = sorted(nlist)\n",
        "\n",
        "# index 3부터 끝까지 합을 구함\n",
        "answer = sum(sorted_list[3:])\n",
        "\n",
        "# index를 띄어쓰기로 출력해야하는 상황\n",
        "# list에는 index를 찾을 수 있는 기능이 있습니다.\n",
        "\n",
        "# 빈리스트를 준비하고 해당 index+1(문제번호) 값을 하나하나 찾아 append로 추가하는 코드입니다.\n",
        "index_list = []\n",
        "for n in sorted_list[3:]:\n",
        "  \n",
        "  #index_list라는 list에 append 한다. 무엇을? nlist에서 n이 위치하는 index + 1 값을 추가\n",
        "  index_list.append(nlist.index(n) + 1)\n",
        "\n",
        "# 최종 정답과, 해당 index_list를 오름차순으로 정렬하여 출력해야하므로\n",
        "# index_list를 정렬 한 후 print(*list) 형식으로 출력하면 list의 요소들이 띄어쓰기로 출력된다.\n",
        "print(answer)\n",
        "print(*sorted(index_list))"
      ],
      "metadata": {
        "id": "SrIbDKmSxPZO"
      },
      "execution_count": null,
      "outputs": []
    },
    {
      "cell_type": "markdown",
      "source": [
        "sol1) 전체 코드\n",
        "\n",
        "백준에서는 input값을 sys 모듈을 사용하여 받으면 더 빠르게 받을 수 있습니다.\n",
        "\n",
        "sys모듈을 사용하여 인풋값을 받는 코드를 추가 하였습니다."
      ],
      "metadata": {
        "id": "o9te-S9-zyhd"
      }
    },
    {
      "cell_type": "code",
      "source": [
        "# sol1) 전체 코드\n",
        "\n",
        "import sys\n",
        "\n",
        "input = sys.stdin.readline\n",
        "\n",
        "nlist = []\n",
        "for _ in range(8):\n",
        "  nlist.append(int(input()))\n",
        "\n",
        "sorted_list = sorted(nlist)\n",
        "answer = sum(sorted_list[3:])\n",
        "\n",
        "index_list = []\n",
        "for n in sorted_list[3:]:\n",
        "  index_list.append(nlist.index(n) + 1)\n",
        "\n",
        "print(answer)\n",
        "print(*sorted(index_list))"
      ],
      "metadata": {
        "colab": {
          "base_uri": "https://localhost:8080/"
        },
        "id": "7Ejoxg_ozGzH",
        "outputId": "1d64cb77-726e-4b60-9c70-fa9b17292f63"
      },
      "execution_count": 2,
      "outputs": [
        {
          "output_type": "execute_result",
          "data": {
            "text/plain": [
              "[33, 48, 50, 64, 66]"
            ]
          },
          "metadata": {},
          "execution_count": 2
        }
      ]
    },
    {
      "cell_type": "markdown",
      "source": [
        "# 내포기능\n",
        "\n",
        "내포 기능이란?\n",
        "\n",
        "파이썬에서 리스트, 딕셔너리와 같은 타입의 변수를 만들 때 코드를 직관적으로 할 뿐 아니라 '실행속도'가 증가하는 기능입니다.\n",
        "\n",
        "- 왜 증가하는지는 스스로..탐구하는 쪽으로 가봅시다!"
      ],
      "metadata": {
        "id": "UdMGDqJyzw2l"
      }
    },
    {
      "cell_type": "code",
      "source": [
        "# 내포기능 예시\n",
        "\n",
        "#list 1번과 2번은 같은 리스트 입니다.\n",
        "\n",
        "list_1 = []\n",
        "\n",
        "for i in range(8):\n",
        "  list_1.append(i)\n",
        "\n",
        "list_2 = [i for i in range(8)]\n",
        "\n",
        "\n",
        "# 직접 코드를 실행 시켜보며 확인해주세요\n",
        "# for문이 반복하는 횟수가 증가 할 수록 리스트를 만들어내는 시간에서 차이가 발생합니다.\n",
        "print(list_1)\n",
        "print(list_2)"
      ],
      "metadata": {
        "colab": {
          "base_uri": "https://localhost:8080/"
        },
        "id": "m8rSV3aD0XaZ",
        "outputId": "674b401b-853b-490f-8ac8-9ae65a405361"
      },
      "execution_count": 4,
      "outputs": [
        {
          "output_type": "stream",
          "name": "stdout",
          "text": [
            "[0, 1, 2, 3, 4, 5, 6, 7]\n",
            "[0, 1, 2, 3, 4, 5, 6, 7]\n"
          ]
        }
      ]
    },
    {
      "cell_type": "markdown",
      "source": [
        "## 내포기능 예제 1\n",
        "\n",
        "list형식 일 때\n",
        "\n",
        "[ '리스트에 들어갈 원소' for _ in ...과같은 반복문] 형식으로 구성 되어있습니다."
      ],
      "metadata": {
        "id": "JT-ThfyZ0ztU"
      }
    },
    {
      "cell_type": "code",
      "source": [
        "# 내포기능 예제 1\n",
        "\n",
        "# 다음 리스트 내포형식으로 구성된 리스트의 출력 결과를 상상하며 코드를 돌려보세요.\n",
        "\n",
        "x1 = [0 for i in range(5)]\n",
        "\n",
        "x2 = [i*2 for i in range(5)]\n",
        "\n",
        "x3 = [i**2 for i in range(5)]\n",
        "\n",
        "x4 = ['*'*i for i in range(5)]\n",
        "\n",
        "\n",
        "print(\"x1 :\", x1)\n",
        "print(\"x2 :\", x2)\n",
        "print(\"x3 :\", x3)\n",
        "print(\"x4 :\", x4)"
      ],
      "metadata": {
        "colab": {
          "base_uri": "https://localhost:8080/"
        },
        "id": "GU88Ve2O0t6j",
        "outputId": "4d9ca423-b551-45f8-b7d8-e5186ebf1373"
      },
      "execution_count": 6,
      "outputs": [
        {
          "output_type": "stream",
          "name": "stdout",
          "text": [
            "x1 : [0, 0, 0, 0, 0]\n",
            "x2 : [0, 2, 4, 6, 8]\n",
            "x3 : [0, 1, 4, 9, 16]\n",
            "x4 : ['', '*', '**', '***', '****']\n"
          ]
        }
      ]
    },
    {
      "cell_type": "markdown",
      "source": [
        "## 내포기능 예제 2\n",
        "\n",
        "내포 기능 안에 조건문도 사용 할 수 있습니다."
      ],
      "metadata": {
        "id": "dHh7EhTq1jYU"
      }
    },
    {
      "cell_type": "code",
      "source": [
        "# 짝수 리스트 만들기\n",
        "# 두개의 리스트 결과값은 동일 합니다.\n",
        "even_list1 = [i for i in range(0, 10, 2)]\n",
        "\n",
        "even_list2 = [i for i in range(10) if i%2 == 0]\n",
        "\n",
        "print('even_list1 :', even_list1)\n",
        "print('even_list2 :', even_list2)"
      ],
      "metadata": {
        "colab": {
          "base_uri": "https://localhost:8080/"
        },
        "id": "n-Rno_sr1rfW",
        "outputId": "29ecb909-3f58-4186-81a9-54e59b1ad7ef"
      },
      "execution_count": 7,
      "outputs": [
        {
          "output_type": "stream",
          "name": "stdout",
          "text": [
            "even_list1 : [0, 2, 4, 6, 8]\n",
            "even_list2 : [0, 2, 4, 6, 8]\n"
          ]
        }
      ]
    },
    {
      "cell_type": "markdown",
      "source": [
        "# ** 내포기능으로 푼 2822번 sol 2"
      ],
      "metadata": {
        "id": "z2kikMgR4mKf"
      }
    },
    {
      "cell_type": "code",
      "source": [
        "# sol2) 전체 코드\n",
        "# 어떤 부분이 어떻게 바뀌었는지 이해하고 상상하면서 보시면 더 큰 도움이 될 것 같습니다.\n",
        "\n",
        "import sys\n",
        "input = sys.stdin.readline\n",
        "\n",
        "nlist = [int(input()) for _ in range(8)]\n",
        "\n",
        "sorted_list = sorted(nlist)\n",
        "answer = sum(sorted_list[3:])\n",
        "\n",
        "index_list = []\n",
        "for n in sorted_list[3:]:\n",
        "  index_list.append(nlist.index(n) + 1)\n",
        "\n",
        "print(answer)\n",
        "print(*sorted(index_list))"
      ],
      "metadata": {
        "id": "Bxd2zqTd4qTF"
      },
      "execution_count": null,
      "outputs": []
    },
    {
      "cell_type": "code",
      "source": [
        "# 더 짧고 간결하게\n",
        "import sys\n",
        "input = sys.stdin.readline\n",
        "\n",
        "nlist = [int(input()) for _ in range(8)]\n",
        "\n",
        "sorted_list = sorted(nlist)[3:]\n",
        "answer = sum(sorted_list)\n",
        "\n",
        "index_list = [nlist.index(n)+1 for n in sorted_list]\n",
        "\n",
        "print(answer)\n",
        "print(*sorted(index_list))\n"
      ],
      "metadata": {
        "id": "txEvqsvn5BT2"
      },
      "execution_count": null,
      "outputs": []
    },
    {
      "cell_type": "markdown",
      "source": [
        "# 내포는 무궁무진한 응용 방법이 있습니다.\n",
        "\n",
        "- 딕셔너리 내포도 공유해드리고 싶은데 각자 스스로 터득해보는 방향으로 하겠습니다. 관련내용 질문은 언제나 환영입니다.\n",
        "\n",
        "- 내포를 활용하면 어떤 코딩이 가능한지 활용 사례 한번 보여드리고 마무리 짓겠습니다.\n",
        "\n",
        "- 주의) 짧은 코딩이 무조건 좋은건 아니라고 생각합니다."
      ],
      "metadata": {
        "id": "iOS1qnJ-2nue"
      }
    },
    {
      "cell_type": "markdown",
      "source": [
        "https://school.programmers.co.kr/learn/courses/30/lessons/42748\n",
        "\n",
        "# 어제(22.10.12) 공유해드린 프로그래머스 문제입니다. \n",
        "꼭 한번 풀어보시고 내포로 해결 한 답을 봐주시면 감사드립니다.\n",
        "\n",
        "화살표로 펼치면 답을 볼 수 있습니다."
      ],
      "metadata": {
        "id": "6PXS9VYM4Dy4"
      }
    },
    {
      "cell_type": "code",
      "source": [
        "# K번째 수 정답\n",
        "\n",
        "def solution(array, commands):\n",
        "    \n",
        "    return [sorted(array[x-1:y])[z-1] for x,y,z in commands]"
      ],
      "metadata": {
        "id": "KtFYfXGQ2851"
      },
      "execution_count": null,
      "outputs": []
    },
    {
      "cell_type": "markdown",
      "source": [],
      "metadata": {
        "id": "uSGtCePR0Fgd"
      }
    }
  ]
}