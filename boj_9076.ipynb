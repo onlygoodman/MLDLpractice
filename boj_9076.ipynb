{
  "nbformat": 4,
  "nbformat_minor": 0,
  "metadata": {
    "colab": {
      "provenance": [],
      "authorship_tag": "ABX9TyN5X33jJX6DgF0OrLKbzbKp",
      "include_colab_link": true
    },
    "kernelspec": {
      "name": "python3",
      "display_name": "Python 3"
    },
    "language_info": {
      "name": "python"
    }
  },
  "cells": [
    {
      "cell_type": "markdown",
      "metadata": {
        "id": "view-in-github",
        "colab_type": "text"
      },
      "source": [
        "<a href=\"https://colab.research.google.com/github/onlygoodman/Python_practice/blob/master/boj_9076.ipynb\" target=\"_parent\"><img src=\"https://colab.research.google.com/assets/colab-badge.svg\" alt=\"Open In Colab\"/></a>"
      ]
    },
    {
      "cell_type": "code",
      "execution_count": null,
      "metadata": {
        "id": "pJtBtH6vN-BD"
      },
      "outputs": [],
      "source": [
        "import sys\n",
        "\n",
        "input = sys.stdin.readline\n",
        "t = int(input())\n",
        "\n",
        "for _ in range(t):\n",
        "    nlist = sorted(list(map(int, input().split())))\n",
        "    \n",
        "    if nlist[3] - nlist[1] < 4:\n",
        "        print(sum(nlist[1:4]))\n",
        "    \n",
        "    else:\n",
        "        print(\"KIN\")"
      ]
    },
    {
      "cell_type": "code",
      "source": [
        "x = [1, 3, 5, 2, 4, 7]\n",
        "\n",
        "print(sorted(x))"
      ],
      "metadata": {
        "colab": {
          "base_uri": "https://localhost:8080/"
        },
        "id": "HyYCX-waOCxy",
        "outputId": "e85e3941-8877-4b16-c329-e2125622a858"
      },
      "execution_count": 1,
      "outputs": [
        {
          "output_type": "stream",
          "name": "stdout",
          "text": [
            "[1, 2, 3, 4, 5, 7]\n"
          ]
        }
      ]
    }
  ]
}