{
  "nbformat": 4,
  "nbformat_minor": 0,
  "metadata": {
    "colab": {
      "name": "project_openCV.ipynb",
      "provenance": [],
      "authorship_tag": "ABX9TyOx7pVEXb7/krlF9u05Pv+R",
      "include_colab_link": true
    },
    "kernelspec": {
      "name": "python3",
      "display_name": "Python 3"
    },
    "language_info": {
      "name": "python"
    }
  },
  "cells": [
    {
      "cell_type": "markdown",
      "metadata": {
        "id": "view-in-github",
        "colab_type": "text"
      },
      "source": [
        "<a href=\"https://colab.research.google.com/github/onlygoodman/MLDLpractice/blob/master/project_openCV.ipynb\" target=\"_parent\"><img src=\"https://colab.research.google.com/assets/colab-badge.svg\" alt=\"Open In Colab\"/></a>"
      ]
    },
    {
      "cell_type": "code",
      "execution_count": null,
      "metadata": {
        "id": "X3CWPjFJQKin"
      },
      "outputs": [],
      "source": [
        "import cv2\n",
        "import mediapipe as mp\n",
        "import pyautogui\n",
        "\n",
        "mp_drawing = mp.solutions.drawing_utils\n",
        "mp_drawing_styles = mp.solutions.drawing_styles\n",
        "mp_hands = mp.solutions.hands\n",
        "\n",
        "# 웹캠, 영상 파일의 경우 이것을 사용하세요.:\n",
        "cap = cv2.VideoCapture(0)\n",
        "with mp_hands.Hands(\n",
        "    model_complexity=0,\n",
        "    min_detection_confidence=0.5,\n",
        "    min_tracking_confidence=0.5) as hands:\n",
        "    while cap.isOpened():\n",
        "        success, image = cap.read()\n",
        "        if not success:\n",
        "            print(\"카메라를 찾을 수 없습니다.\")\n",
        "      # 동영상을 불러올 경우는 'continue' 대신 'break'를 사용합니다.\n",
        "            continue\n",
        "\n",
        "    # 필요에 따라 성능 향상을 위해 이미지 작성을 불가능함으로 기본 설정합니다.\n",
        "        image.flags.writeable = False\n",
        "        image = cv2.cvtColor(image, cv2.COLOR_BGR2RGB)\n",
        "        results = hands.process(image)\n",
        "\n",
        "    # 이미지에 손 주석을 그립니다.\n",
        "        image.flags.writeable = True\n",
        "        image = cv2.cvtColor(image, cv2.COLOR_RGB2BGR)\n",
        "        if results.multi_hand_landmarks:\n",
        "            for hand_landmarks in results.multi_hand_landmarks:\n",
        "                keypoints = []\n",
        "                for data_point in hand_landmarks.landmark:\n",
        "                    keypoints.append({\n",
        "                         'X': data_point.x,\n",
        "                         'Y': data_point.y,\n",
        "                         'Z': data_point.z,\n",
        "                         'Visibility': data_point.visibility,\n",
        "                         })\n",
        "                pyautogui.moveTo(2000-keypoints[8]['X']*1000, keypoints[8]['Y']*1000)\n",
        "        \n",
        "                mp_drawing.draw_landmarks(\n",
        "                image,\n",
        "                hand_landmarks,\n",
        "                mp_hands.HAND_CONNECTIONS,\n",
        "                mp_drawing_styles.get_default_hand_landmarks_style(),\n",
        "                mp_drawing_styles.get_default_hand_connections_style())\n",
        "        #보기 편하게 이미지를 좌우 반전합니다.\n",
        "        cv2.imshow('MediaPipe Hands', cv2.flip(image, 1))\n",
        "        if cv2.waitKey(5) & 0xFF == 27:\n",
        "            break\n",
        "\n",
        "cv2.destroyAllWindows()\n",
        "cap.release()"
      ]
    }
  ]
}