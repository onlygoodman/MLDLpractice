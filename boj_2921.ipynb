{
  "nbformat": 4,
  "nbformat_minor": 0,
  "metadata": {
    "colab": {
      "provenance": [],
      "authorship_tag": "ABX9TyMnZiwK+Khvg3m2M/wr06Rk",
      "include_colab_link": true
    },
    "kernelspec": {
      "name": "python3",
      "display_name": "Python 3"
    },
    "language_info": {
      "name": "python"
    }
  },
  "cells": [
    {
      "cell_type": "markdown",
      "metadata": {
        "id": "view-in-github",
        "colab_type": "text"
      },
      "source": [
        "<a href=\"https://colab.research.google.com/github/onlygoodman/Python_practice/blob/master/boj_2921.ipynb\" target=\"_parent\"><img src=\"https://colab.research.google.com/assets/colab-badge.svg\" alt=\"Open In Colab\"/></a>"
      ]
    },
    {
      "cell_type": "code",
      "execution_count": null,
      "metadata": {
        "id": "RobiCOA-x0gk"
      },
      "outputs": [],
      "source": [
        "n = int(input())\n",
        "\n",
        "domino = sum([i for i in range(1, n+2)])\n",
        "#n = 3 일 때, 12개\n",
        "\n",
        "answer = sum([i for i in range(n+1)]) * (domino * 2) // (n+1)\n",
        "\n",
        "print(answer)\n"
      ]
    }
  ]
}