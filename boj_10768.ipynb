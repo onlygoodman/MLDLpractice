{
  "nbformat": 4,
  "nbformat_minor": 0,
  "metadata": {
    "colab": {
      "provenance": [],
      "authorship_tag": "ABX9TyN5wermpobDoQ+5U2XMOFua",
      "include_colab_link": true
    },
    "kernelspec": {
      "name": "python3",
      "display_name": "Python 3"
    },
    "language_info": {
      "name": "python"
    }
  },
  "cells": [
    {
      "cell_type": "markdown",
      "metadata": {
        "id": "view-in-github",
        "colab_type": "text"
      },
      "source": [
        "<a href=\"https://colab.research.google.com/github/onlygoodman/Python_practice/blob/master/boj_10768.ipynb\" target=\"_parent\"><img src=\"https://colab.research.google.com/assets/colab-badge.svg\" alt=\"Open In Colab\"/></a>"
      ]
    },
    {
      "cell_type": "code",
      "execution_count": null,
      "metadata": {
        "id": "XJ61U-N9g2u0"
      },
      "outputs": [],
      "source": [
        "m = int(input())\n",
        "d = int(input())\n",
        "\n",
        "if m>2:\n",
        "    print('After')\n",
        "    \n",
        "elif m==2 and d>18:\n",
        "    print('After')\n",
        "\n",
        "elif m==2 and d==18:\n",
        "    print('Special')\n",
        "\n",
        "else:\n",
        "    print('Before')"
      ]
    }
  ]
}