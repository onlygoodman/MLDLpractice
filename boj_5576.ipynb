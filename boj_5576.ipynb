{
  "nbformat": 4,
  "nbformat_minor": 0,
  "metadata": {
    "colab": {
      "provenance": [],
      "authorship_tag": "ABX9TyO3qAXt+U/q4GuzBdczk36Y",
      "include_colab_link": true
    },
    "kernelspec": {
      "name": "python3",
      "display_name": "Python 3"
    },
    "language_info": {
      "name": "python"
    }
  },
  "cells": [
    {
      "cell_type": "markdown",
      "metadata": {
        "id": "view-in-github",
        "colab_type": "text"
      },
      "source": [
        "<a href=\"https://colab.research.google.com/github/onlygoodman/Python_practice/blob/master/boj_5576.ipynb\" target=\"_parent\"><img src=\"https://colab.research.google.com/assets/colab-badge.svg\" alt=\"Open In Colab\"/></a>"
      ]
    },
    {
      "cell_type": "code",
      "execution_count": null,
      "metadata": {
        "id": "v8y_YsEs7nmw"
      },
      "outputs": [],
      "source": [
        "import sys\n",
        "\n",
        "input = sys.stdin.readline\n",
        "\n",
        "w = []\n",
        "k = []\n",
        "\n",
        "\n",
        "for _ in range(10):\n",
        "    w.append(int(input()))\n",
        "\n",
        "for _ in range(10):\n",
        "    k.append(int(input()))\n",
        "\n",
        "print(sum(sorted(w)[7:10]))\n",
        "print(sum(sorted(k)[7:10]))"
      ]
    }
  ]
}