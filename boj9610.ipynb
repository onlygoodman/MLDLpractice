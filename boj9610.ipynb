{
  "nbformat": 4,
  "nbformat_minor": 0,
  "metadata": {
    "colab": {
      "name": "boj9610.ipynb",
      "provenance": [],
      "authorship_tag": "ABX9TyOvzwYL1ojWl4Mm7gsXxljM",
      "include_colab_link": true
    },
    "kernelspec": {
      "name": "python3",
      "display_name": "Python 3"
    },
    "language_info": {
      "name": "python"
    }
  },
  "cells": [
    {
      "cell_type": "markdown",
      "metadata": {
        "id": "view-in-github",
        "colab_type": "text"
      },
      "source": [
        "<a href=\"https://colab.research.google.com/github/onlygoodman/MLDLpractice/blob/master/boj9610.ipynb\" target=\"_parent\"><img src=\"https://colab.research.google.com/assets/colab-badge.svg\" alt=\"Open In Colab\"/></a>"
      ]
    },
    {
      "cell_type": "markdown",
      "source": [
        "2차원 좌표 상의 여러 점의 좌표 (x,y)가 주어졌을 때, 각 사분면과 축에 점이 몇 개 있는지 구하는 프로그램을 작성하시오."
      ],
      "metadata": {
        "id": "q1WANDYMW5Bp"
      }
    },
    {
      "cell_type": "code",
      "execution_count": null,
      "metadata": {
        "id": "XmEhXqftW1OK"
      },
      "outputs": [],
      "source": [
        "n= int(input())\n",
        "\n",
        "answer=[0 for _ in range(5)]\n",
        "\n",
        "for _ in range(n):\n",
        "    x,y = map(int, input().split())\n",
        "    \n",
        "    if x==0 or y==0:\n",
        "        answer[4]+=1\n",
        "    \n",
        "    elif x>0 and y>0:\n",
        "        answer[0]+=1\n",
        "    \n",
        "    elif x<0 and y>0:\n",
        "        answer[1]+=1\n",
        "    \n",
        "    elif x<0 and y<0:\n",
        "        answer[2]+=1\n",
        "    \n",
        "    elif x>0 and y<0:\n",
        "        answer[3]+=1\n",
        "\n",
        "for i in range(4):\n",
        "    print(\"Q{}: {}\".format(i+1, answer[i]))\n",
        "\n",
        "print(\"AXIS: {}\".format(answer[4]))"
      ]
    }
  ]
}