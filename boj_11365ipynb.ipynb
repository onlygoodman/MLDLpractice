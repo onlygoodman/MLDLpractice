{
  "nbformat": 4,
  "nbformat_minor": 0,
  "metadata": {
    "colab": {
      "provenance": [],
      "authorship_tag": "ABX9TyPdtJ11Mq/X8vxC5wmh6GxG",
      "include_colab_link": true
    },
    "kernelspec": {
      "name": "python3",
      "display_name": "Python 3"
    },
    "language_info": {
      "name": "python"
    }
  },
  "cells": [
    {
      "cell_type": "markdown",
      "metadata": {
        "id": "view-in-github",
        "colab_type": "text"
      },
      "source": [
        "<a href=\"https://colab.research.google.com/github/onlygoodman/Python_practice/blob/master/boj_11365ipynb.ipynb\" target=\"_parent\"><img src=\"https://colab.research.google.com/assets/colab-badge.svg\" alt=\"Open In Colab\"/></a>"
      ]
    },
    {
      "cell_type": "code",
      "execution_count": 6,
      "metadata": {
        "colab": {
          "base_uri": "https://localhost:8080/"
        },
        "id": "2gj_q9STHsCv",
        "outputId": "547ff3c6-87ce-43e5-cf5c-d874181f70db"
      },
      "outputs": [
        {
          "output_type": "stream",
          "name": "stdout",
          "text": [
            "elppa\n"
          ]
        }
      ],
      "source": [
        "word  = 'apple'\n",
        "\n",
        "print(\"\".join(reversed(word)))"
      ]
    },
    {
      "cell_type": "code",
      "source": [
        "while True :\n",
        "    word = input()\n",
        "    if word == 'END':\n",
        "        break\n",
        "    print(\"\".join(reversed(word)))\n",
        "    "
      ],
      "metadata": {
        "id": "NZsBBIIRIOVP"
      },
      "execution_count": null,
      "outputs": []
    }
  ]
}