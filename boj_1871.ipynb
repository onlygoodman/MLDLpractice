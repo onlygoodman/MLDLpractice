{
  "nbformat": 4,
  "nbformat_minor": 0,
  "metadata": {
    "colab": {
      "provenance": [],
      "authorship_tag": "ABX9TyNyGyelAjJ9bHdLkw25Z+uR",
      "include_colab_link": true
    },
    "kernelspec": {
      "name": "python3",
      "display_name": "Python 3"
    },
    "language_info": {
      "name": "python"
    }
  },
  "cells": [
    {
      "cell_type": "markdown",
      "metadata": {
        "id": "view-in-github",
        "colab_type": "text"
      },
      "source": [
        "<a href=\"https://colab.research.google.com/github/onlygoodman/Python_practice/blob/master/boj_1871.ipynb\" target=\"_parent\"><img src=\"https://colab.research.google.com/assets/colab-badge.svg\" alt=\"Open In Colab\"/></a>"
      ]
    },
    {
      "cell_type": "code",
      "execution_count": null,
      "metadata": {
        "id": "RNDainAsMmkU"
      },
      "outputs": [],
      "source": [
        "for _ in range(int(input())):\n",
        "    L, D = input().split('-')\n",
        "    n = int(D)\n",
        "    s = 0\n",
        "    for i in range(3):\n",
        "        s += (ord(L[i])-65) * 26**(2-i)\n",
        "    print(\"nice\" if abs(s-n) <= 100 else \"not nice\")\n",
        "\n",
        "    "
      ]
    }
  ]
}