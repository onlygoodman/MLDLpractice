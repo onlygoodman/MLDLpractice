{
  "nbformat": 4,
  "nbformat_minor": 0,
  "metadata": {
    "colab": {
      "name": "boj0810.ipynb",
      "provenance": [],
      "authorship_tag": "ABX9TyOzk4Mo6LwlOpmjUI1r/bPr",
      "include_colab_link": true
    },
    "kernelspec": {
      "name": "python3",
      "display_name": "Python 3"
    },
    "language_info": {
      "name": "python"
    }
  },
  "cells": [
    {
      "cell_type": "markdown",
      "metadata": {
        "id": "view-in-github",
        "colab_type": "text"
      },
      "source": [
        "<a href=\"https://colab.research.google.com/github/onlygoodman/MLDLpractice/blob/master/boj0810.ipynb\" target=\"_parent\"><img src=\"https://colab.research.google.com/assets/colab-badge.svg\" alt=\"Open In Colab\"/></a>"
      ]
    },
    {
      "cell_type": "code",
      "execution_count": null,
      "metadata": {
        "id": "cZr2i7dKA9sN"
      },
      "outputs": [],
      "source": [
        "#boj 1406\n",
        "\n",
        "from sys import stdin\n",
        "\n",
        "stk1 = list(stdin.readline().strip())\n",
        "stk2 = []\n",
        "n = int(input())\n",
        "for line in stdin:\n",
        "    if line[0] == 'L':\n",
        "        if stk1: stk2.append(stk1.pop())\n",
        "        else: continue\n",
        "    elif line[0] == 'D':\n",
        "        if stk2: stk1.append(stk2.pop())\n",
        "        else: continue\n",
        "    elif line[0] == 'B':\n",
        "        if stk1: stk1.pop()\n",
        "        else: continue\n",
        "    elif line[0] == 'P':\n",
        "        stk1.append(line[2])\n",
        "print(''.join(stk1 + list(reversed(stk2))))"
      ]
    }
  ]
}