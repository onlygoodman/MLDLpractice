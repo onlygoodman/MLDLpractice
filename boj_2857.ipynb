{
  "nbformat": 4,
  "nbformat_minor": 0,
  "metadata": {
    "colab": {
      "provenance": [],
      "authorship_tag": "ABX9TyNITcgRM0FB5c+AUcnmTfC+",
      "include_colab_link": true
    },
    "kernelspec": {
      "name": "python3",
      "display_name": "Python 3"
    },
    "language_info": {
      "name": "python"
    }
  },
  "cells": [
    {
      "cell_type": "markdown",
      "metadata": {
        "id": "view-in-github",
        "colab_type": "text"
      },
      "source": [
        "<a href=\"https://colab.research.google.com/github/onlygoodman/Python_practice/blob/master/boj_2857.ipynb\" target=\"_parent\"><img src=\"https://colab.research.google.com/assets/colab-badge.svg\" alt=\"Open In Colab\"/></a>"
      ]
    },
    {
      "cell_type": "code",
      "execution_count": null,
      "metadata": {
        "id": "hlPYZQNfmbb_"
      },
      "outputs": [],
      "source": [
        "answer = []\n",
        "for i in range(1, 6):\n",
        "    word = input()\n",
        "    \n",
        "    if 'FBI' in word:\n",
        "        answer.append(i)\n",
        "\n",
        "if not answer:\n",
        "    print('HE GOT AWAY!')\n",
        "    \n",
        "else:    \n",
        "    print(*answer)"
      ]
    }
  ]
}