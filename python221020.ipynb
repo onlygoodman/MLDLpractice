{
  "nbformat": 4,
  "nbformat_minor": 0,
  "metadata": {
    "colab": {
      "provenance": [],
      "authorship_tag": "ABX9TyOAgQRRGS6Lgpqb5cPX7h2V",
      "include_colab_link": true
    },
    "kernelspec": {
      "name": "python3",
      "display_name": "Python 3"
    },
    "language_info": {
      "name": "python"
    }
  },
  "cells": [
    {
      "cell_type": "markdown",
      "metadata": {
        "id": "view-in-github",
        "colab_type": "text"
      },
      "source": [
        "<a href=\"https://colab.research.google.com/github/onlygoodman/Python_practice/blob/master/python221020.ipynb\" target=\"_parent\"><img src=\"https://colab.research.google.com/assets/colab-badge.svg\" alt=\"Open In Colab\"/></a>"
      ]
    },
    {
      "cell_type": "code",
      "execution_count": null,
      "metadata": {
        "id": "aZOWgt_Gw9xP"
      },
      "outputs": [],
      "source": [
        "bin(13)\n",
        "\n",
        "x = bin(13)[2:]"
      ]
    },
    {
      "cell_type": "code",
      "source": [
        "list(reversed(x))"
      ],
      "metadata": {
        "colab": {
          "base_uri": "https://localhost:8080/"
        },
        "id": "VYxkr8UrxNc1",
        "outputId": "32537d2f-7956-45ad-f6bb-4f857bd3f621"
      },
      "execution_count": null,
      "outputs": [
        {
          "output_type": "execute_result",
          "data": {
            "text/plain": [
              "['1', '0', '1', '1']"
            ]
          },
          "metadata": {},
          "execution_count": 17
        }
      ]
    },
    {
      "cell_type": "code",
      "source": [
        "#boj 2진수\n",
        "t = int(input())\n",
        "\n",
        "for _ in range(t):\n",
        "  x = list(reversed(bin(int(input()))[2:]))\n",
        "\n",
        "  answer = []\n",
        "\n",
        "  for i in range(len(x)):\n",
        "    if x[i] == '1':\n",
        "      answer.append(i)\n",
        "  print(*answer)"
      ],
      "metadata": {
        "colab": {
          "base_uri": "https://localhost:8080/"
        },
        "id": "VFQ-OuqrxVOA",
        "outputId": "4db982e1-0a78-4b65-c49e-a916713829aa"
      },
      "execution_count": null,
      "outputs": [
        {
          "output_type": "stream",
          "name": "stdout",
          "text": [
            "1\n",
            "13\n",
            "0\n",
            "0\n",
            "0 2\n",
            "0 2 3\n"
          ]
        }
      ]
    },
    {
      "cell_type": "code",
      "source": [
        "#boj 5176\n",
        "\n",
        "t = int(input())\n",
        "\n",
        "for _ in range(t):\n",
        "  p, m = map(int, input().split())\n",
        "  nset = set([int(input()) for _ in range(p)])\n",
        "  print(p-len(nset))\n"
      ],
      "metadata": {
        "id": "3a2u7MjCyyyz"
      },
      "execution_count": null,
      "outputs": []
    }
  ]
}