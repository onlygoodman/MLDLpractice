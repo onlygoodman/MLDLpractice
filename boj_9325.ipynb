{
  "nbformat": 4,
  "nbformat_minor": 0,
  "metadata": {
    "colab": {
      "provenance": [],
      "authorship_tag": "ABX9TyORu3sLrfDYgj9uLV0xj8Qr",
      "include_colab_link": true
    },
    "kernelspec": {
      "name": "python3",
      "display_name": "Python 3"
    },
    "language_info": {
      "name": "python"
    }
  },
  "cells": [
    {
      "cell_type": "markdown",
      "metadata": {
        "id": "view-in-github",
        "colab_type": "text"
      },
      "source": [
        "<a href=\"https://colab.research.google.com/github/onlygoodman/Python_practice/blob/master/boj_9325.ipynb\" target=\"_parent\"><img src=\"https://colab.research.google.com/assets/colab-badge.svg\" alt=\"Open In Colab\"/></a>"
      ]
    },
    {
      "cell_type": "code",
      "execution_count": null,
      "metadata": {
        "id": "3Wvy3c1m_HvD"
      },
      "outputs": [],
      "source": [
        "#boj 9325\n",
        "\n",
        "import sys\n",
        "input = sys.stdin.readline\n",
        "\n",
        "case = int(input())\n",
        "\n",
        "for _ in range(case):\n",
        "    base = int(input())\n",
        "    n = int(input())\n",
        "    \n",
        "    if n == 0:\n",
        "        print(base)\n",
        "    else:\n",
        "        for _ in range(n):\n",
        "            x, y = map(int, input().split())\n",
        "            base += x*y\n",
        "        print(base)"
      ]
    }
  ]
}