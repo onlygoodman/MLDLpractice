{
  "nbformat": 4,
  "nbformat_minor": 0,
  "metadata": {
    "colab": {
      "name": "boj 10991.ipynb",
      "provenance": [],
      "authorship_tag": "ABX9TyNayVW5MYPdSM0Qvn/45s5C",
      "include_colab_link": true
    },
    "kernelspec": {
      "name": "python3",
      "display_name": "Python 3"
    },
    "language_info": {
      "name": "python"
    }
  },
  "cells": [
    {
      "cell_type": "markdown",
      "metadata": {
        "id": "view-in-github",
        "colab_type": "text"
      },
      "source": [
        "<a href=\"https://colab.research.google.com/github/onlygoodman/Python_practice/blob/master/boj_10991.ipynb\" target=\"_parent\"><img src=\"https://colab.research.google.com/assets/colab-badge.svg\" alt=\"Open In Colab\"/></a>"
      ]
    },
    {
      "cell_type": "code",
      "execution_count": null,
      "metadata": {
        "id": "gt-NDBxZEp3K"
      },
      "outputs": [],
      "source": [
        "n = int(input())\n",
        "\n",
        "for i in range(1, n+1):\n",
        "    if i == 1:\n",
        "        print(\" \"*(n-i)+\"*\")\n",
        "    \n",
        "    else:\n",
        "        print(\" \"*(n-i)+\"* \"*(i-1)+\"*\")"
      ]
    }
  ]
}