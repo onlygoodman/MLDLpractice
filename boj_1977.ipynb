{
  "nbformat": 4,
  "nbformat_minor": 0,
  "metadata": {
    "colab": {
      "name": "boj 1977.ipynb",
      "provenance": [],
      "authorship_tag": "ABX9TyPb0FIM9R6a9lvA86F+wvGd",
      "include_colab_link": true
    },
    "kernelspec": {
      "name": "python3",
      "display_name": "Python 3"
    },
    "language_info": {
      "name": "python"
    }
  },
  "cells": [
    {
      "cell_type": "markdown",
      "metadata": {
        "id": "view-in-github",
        "colab_type": "text"
      },
      "source": [
        "<a href=\"https://colab.research.google.com/github/onlygoodman/MLDLpractice/blob/master/boj_1977.ipynb\" target=\"_parent\"><img src=\"https://colab.research.google.com/assets/colab-badge.svg\" alt=\"Open In Colab\"/></a>"
      ]
    },
    {
      "cell_type": "code",
      "execution_count": 7,
      "metadata": {
        "id": "QLgPsEDg1HG1",
        "colab": {
          "base_uri": "https://localhost:8080/"
        },
        "outputId": "2f2938b6-20e2-4593-cd18-0b12c38b7164"
      },
      "outputs": [
        {
          "output_type": "stream",
          "name": "stdout",
          "text": [
            "60\n",
            "100\n",
            "245\n",
            "64\n"
          ]
        }
      ],
      "source": [
        "n=int(input())\n",
        "m=int(input())\n",
        "\n",
        "ans1=0\n",
        "ans2=m\n",
        "for i in range(n, m+1):\n",
        "    if int(i**(1/2))==i**(1/2):\n",
        "        ans1 += i\n",
        "        ans2 = min(ans2, i)\n",
        "print(ans1)\n",
        "print(ans2)"
      ]
    },
    {
      "cell_type": "code",
      "source": [
        "int(6.9)"
      ],
      "metadata": {
        "colab": {
          "base_uri": "https://localhost:8080/"
        },
        "id": "fniH5hW52pcg",
        "outputId": "9f66694e-eec0-441b-ab5e-936c9f6f1d3b"
      },
      "execution_count": 5,
      "outputs": [
        {
          "output_type": "execute_result",
          "data": {
            "text/plain": [
              "6"
            ]
          },
          "metadata": {},
          "execution_count": 5
        }
      ]
    }
  ]
}