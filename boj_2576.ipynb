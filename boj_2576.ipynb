{
  "nbformat": 4,
  "nbformat_minor": 0,
  "metadata": {
    "colab": {
      "name": "boj 2576.ipynb",
      "provenance": [],
      "authorship_tag": "ABX9TyMOQHvROyC6n+hvgcW9sPKT",
      "include_colab_link": true
    },
    "kernelspec": {
      "name": "python3",
      "display_name": "Python 3"
    },
    "language_info": {
      "name": "python"
    }
  },
  "cells": [
    {
      "cell_type": "markdown",
      "metadata": {
        "id": "view-in-github",
        "colab_type": "text"
      },
      "source": [
        "<a href=\"https://colab.research.google.com/github/onlygoodman/Python_practice/blob/master/boj_2576.ipynb\" target=\"_parent\"><img src=\"https://colab.research.google.com/assets/colab-badge.svg\" alt=\"Open In Colab\"/></a>"
      ]
    },
    {
      "cell_type": "code",
      "execution_count": null,
      "metadata": {
        "id": "8otCzxuNHyRo"
      },
      "outputs": [],
      "source": [
        "numlist = [int(input()) for _ in range(7)]\n",
        "oddlist = [i for i in numlist if i%2 != 0]\n",
        "\n",
        "if oddlist:\n",
        "    print(sum(oddlist))\n",
        "    print(min(oddlist))\n",
        "else:\n",
        "    print(-1)"
      ]
    }
  ]
}