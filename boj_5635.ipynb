{
  "nbformat": 4,
  "nbformat_minor": 0,
  "metadata": {
    "colab": {
      "name": "boj 5635.ipynb",
      "provenance": [],
      "authorship_tag": "ABX9TyPLlqgqZi3W9pdJcBxWv/zy",
      "include_colab_link": true
    },
    "kernelspec": {
      "name": "python3",
      "display_name": "Python 3"
    },
    "language_info": {
      "name": "python"
    }
  },
  "cells": [
    {
      "cell_type": "markdown",
      "metadata": {
        "id": "view-in-github",
        "colab_type": "text"
      },
      "source": [
        "<a href=\"https://colab.research.google.com/github/onlygoodman/MLDLpractice/blob/master/boj_5635.ipynb\" target=\"_parent\"><img src=\"https://colab.research.google.com/assets/colab-badge.svg\" alt=\"Open In Colab\"/></a>"
      ]
    },
    {
      "cell_type": "code",
      "execution_count": null,
      "metadata": {
        "id": "gQDbQ1cgHX7b"
      },
      "outputs": [],
      "source": [
        "n = int(input())\n",
        "\n",
        "blist = []\n",
        "for _ in range(n):\n",
        "    name, d, m, y = input().split()\n",
        "    ymd = int(\"{}{:0>2}{:0>2}\".format(y,m,d))\n",
        "    blist.append([name, ymd])\n",
        "\n",
        "answer = sorted(blist, key = lambda x : x[1])\n",
        "print(answer[-1][0])\n",
        "print(answer[0][0])"
      ]
    },
    {
      "cell_type": "code",
      "source": [
        "name, d, m, y = input().split()"
      ],
      "metadata": {
        "colab": {
          "base_uri": "https://localhost:8080/"
        },
        "id": "8jlBeiszHn28",
        "outputId": "49697401-e8b5-4ad1-a790-d76c19f1b06b"
      },
      "execution_count": 2,
      "outputs": [
        {
          "name": "stdout",
          "output_type": "stream",
          "text": [
            "m 1 10 1991\n"
          ]
        }
      ]
    },
    {
      "cell_type": "code",
      "source": [
        "name"
      ],
      "metadata": {
        "colab": {
          "base_uri": "https://localhost:8080/",
          "height": 35
        },
        "id": "Thj2v1xzHrRp",
        "outputId": "50eecd83-a464-4c27-e5dd-d5d387437d28"
      },
      "execution_count": 3,
      "outputs": [
        {
          "output_type": "execute_result",
          "data": {
            "text/plain": [
              "'m'"
            ],
            "application/vnd.google.colaboratory.intrinsic+json": {
              "type": "string"
            }
          },
          "metadata": {},
          "execution_count": 3
        }
      ]
    }
  ]
}