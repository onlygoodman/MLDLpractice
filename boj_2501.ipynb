{
  "nbformat": 4,
  "nbformat_minor": 0,
  "metadata": {
    "colab": {
      "name": "boj 2501.ipynb",
      "provenance": [],
      "authorship_tag": "ABX9TyPiREj+xTJmzxm8modmthEP",
      "include_colab_link": true
    },
    "kernelspec": {
      "name": "python3",
      "display_name": "Python 3"
    },
    "language_info": {
      "name": "python"
    }
  },
  "cells": [
    {
      "cell_type": "markdown",
      "metadata": {
        "id": "view-in-github",
        "colab_type": "text"
      },
      "source": [
        "<a href=\"https://colab.research.google.com/github/onlygoodman/Python_practice/blob/master/boj_2501.ipynb\" target=\"_parent\"><img src=\"https://colab.research.google.com/assets/colab-badge.svg\" alt=\"Open In Colab\"/></a>"
      ]
    },
    {
      "cell_type": "code",
      "execution_count": null,
      "metadata": {
        "id": "64RSAXZk6dvv"
      },
      "outputs": [],
      "source": [
        "n, k = map(int, input().split())\n",
        "\n",
        "divlist = []\n",
        "\n",
        "for i in range(1, n+1) :\n",
        "    if n%i == 0 :\n",
        "        divlist.append(i)\n",
        "\n",
        "if len(divlist)<k:\n",
        "    print(0)\n",
        "\n",
        "else:\n",
        "    print(divlist[k-1])"
      ]
    }
  ]
}